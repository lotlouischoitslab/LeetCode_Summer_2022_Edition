{
 "cells": [
  {
   "cell_type": "markdown",
   "id": "13275415",
   "metadata": {},
   "source": [
    "### https://leetcode.com/problems/validate-binary-search-tree/"
   ]
  },
  {
   "cell_type": "code",
   "execution_count": 1,
   "id": "1c570caf",
   "metadata": {},
   "outputs": [
    {
     "ename": "NameError",
     "evalue": "name 'Optional' is not defined",
     "output_type": "error",
     "traceback": [
      "\u001b[1;31m---------------------------------------------------------------------------\u001b[0m",
      "\u001b[1;31mNameError\u001b[0m                                 Traceback (most recent call last)",
      "Input \u001b[1;32mIn [1]\u001b[0m, in \u001b[0;36m<cell line: 7>\u001b[1;34m()\u001b[0m\n\u001b[0;32m      1\u001b[0m \u001b[38;5;66;03m# Definition for a binary tree node.\u001b[39;00m\n\u001b[0;32m      2\u001b[0m \u001b[38;5;66;03m# class TreeNode:\u001b[39;00m\n\u001b[0;32m      3\u001b[0m \u001b[38;5;66;03m#     def __init__(self, val=0, left=None, right=None):\u001b[39;00m\n\u001b[0;32m      4\u001b[0m \u001b[38;5;66;03m#         self.val = val\u001b[39;00m\n\u001b[0;32m      5\u001b[0m \u001b[38;5;66;03m#         self.left = left\u001b[39;00m\n\u001b[0;32m      6\u001b[0m \u001b[38;5;66;03m#         self.right = right\u001b[39;00m\n\u001b[1;32m----> 7\u001b[0m \u001b[38;5;28;01mclass\u001b[39;00m \u001b[38;5;21;01mSolution\u001b[39;00m:\n\u001b[0;32m      8\u001b[0m     \u001b[38;5;28;01mdef\u001b[39;00m \u001b[38;5;21misValidBST\u001b[39m(\u001b[38;5;28mself\u001b[39m, root: Optional[TreeNode]) \u001b[38;5;241m-\u001b[39m\u001b[38;5;241m>\u001b[39m \u001b[38;5;28mbool\u001b[39m:\n\u001b[0;32m      9\u001b[0m         \u001b[38;5;28;01mif\u001b[39;00m root \u001b[38;5;129;01mis\u001b[39;00m \u001b[38;5;28;01mNone\u001b[39;00m:\n",
      "Input \u001b[1;32mIn [1]\u001b[0m, in \u001b[0;36mSolution\u001b[1;34m()\u001b[0m\n\u001b[0;32m      7\u001b[0m \u001b[38;5;28;01mclass\u001b[39;00m \u001b[38;5;21;01mSolution\u001b[39;00m:\n\u001b[1;32m----> 8\u001b[0m     \u001b[38;5;28;01mdef\u001b[39;00m \u001b[38;5;21misValidBST\u001b[39m(\u001b[38;5;28mself\u001b[39m, root: \u001b[43mOptional\u001b[49m[TreeNode]) \u001b[38;5;241m-\u001b[39m\u001b[38;5;241m>\u001b[39m \u001b[38;5;28mbool\u001b[39m:\n\u001b[0;32m      9\u001b[0m         \u001b[38;5;28;01mif\u001b[39;00m root \u001b[38;5;129;01mis\u001b[39;00m \u001b[38;5;28;01mNone\u001b[39;00m:\n\u001b[0;32m     10\u001b[0m             \u001b[38;5;28;01mreturn\u001b[39;00m \u001b[38;5;28;01mTrue\u001b[39;00m\n",
      "\u001b[1;31mNameError\u001b[0m: name 'Optional' is not defined"
     ]
    }
   ],
   "source": [
    "# Definition for a binary tree node.\n",
    "# class TreeNode:\n",
    "#     def __init__(self, val=0, left=None, right=None):\n",
    "#         self.val = val\n",
    "#         self.left = left\n",
    "#         self.right = right\n",
    "class Solution:\n",
    "    def isValidBST(self, root: Optional[TreeNode]) -> bool:\n",
    "        if root is None:\n",
    "            return True\n",
    "        \n",
    "        def inOrder(root,order):\n",
    "            if root is None:\n",
    "                return\n",
    "            inOrder(root.left, order)\n",
    "            order.append(root.val)\n",
    "            inOrder(root.right,order)\n",
    "            \n",
    "        order = []\n",
    "        inOrder(root,order)\n",
    "        \n",
    "        for i in range(len(order)-1):\n",
    "            if order[i] >= order[i+1]:\n",
    "                return False\n",
    "            \n",
    "        return True\n",
    "    \n",
    "#Time and Space Complexity: O(n)   \n",
    "        \n",
    "#Divide and Conquer Algorithm: \n",
    "#1. Divide -> How do we divide the problem into a set of subproblems (We need at least two sub-problems)? We divide our problem of checking whether the tree rooted at the initial root is a valid BST by checking if it's left subtree is a valid BST and its right subtree is a valid BST. Once we reached the base cases (i.e the current root of either the tree or subtree is a leaf node or the current root is NULL). We stop recursing. \n",
    "\n",
    "#2. Conquer -> Recursively solve each of the subproblems. We recursively solve each of the subproblems by invoking isValid BST on the left subtree and right subtree of the current root. If they both return true, we need to check for two cases: if both return true and the left child's value is less than the root's value and the right child's value is greater than the current's root value, then we know that the tree rotted at the current root is also a valid BST. So we recursively backtrack up the tree and make sure the subtree themselves are valid BSTs and if they are not, then we will return false and backtrack to the original caller and have it return false. If I myself is a root node and not a valid BST but my children are, I will still return false and backtrack up to the original caller to have it return false. \n",
    "\n",
    "#3. Combine -> Refer to the conquer section, but at every level of the binary tree, we check the result of its subproblems(i.e subtrees) and see if they are valid BSTs. Both subtrees must be valid BSTs in order for me as the root node to check if I am a valid BST. If either of them are not, we combine the results by saying that I myself as the root node am not a valid BST. \n",
    "\n",
    "#Base Case: If the current root is a lead node, return True since a tree with a single node is indeed a valid BST. It doesn't have a left subtree nor right subtree so it fulfills the three properties of the BST above. If the current root is NULL, we still have a valid BST since an empty rooted at the current root does not even have any nodes for us to compare its left subtree and right subtree values so it fulfills the three properties of the BST above. So return True in this case. This accounts for the case where our tree node has only a single child (either a left child or a right child but not both). Because we only have to check the value of the  child that exist and compare it to the root value. The other null subtree will be considered a valid BST.\n",
    "\n",
    "#Runtime Analysis: O(N) where N is the number of nodes in the binary tree since we must perform a full traversal of the tree (DFS). We go all the way down a path of the tree at a time and backtrack to check to see if any of the subtrees are not a valid BST at any point, making the entire tree an invalid BST or not a BST. \n",
    "\n",
    "#Space Complexity: In the worst case, our binary tree is a stick with only left children or only right children but not both. We have a recursion stack to store our recursion calls that will be executed in LIFO order. Once we hit the base case, but in the case of a stick geometry, we will have to invoke the recursive function on all nodes and store them in the recursion tree before reaching any base case. Since there are N nodes in the binary tree, our runtime would be O(N). IN the best case, our binary tree is a perfect tree (full and complete tree), so every node will have both its children, (important especially at level h - 1). The height of a perfect tree is logN. Since we perform DFS, we will go down a full path (logN nodes) of our binary tree before hitting the base case and then start to execute the recursion calls. So the max number of elements in our recursion stack would be logN at any moment of time since we pop from the stack once we are done executing a recursive call.   "
   ]
  },
  {
   "cell_type": "code",
   "execution_count": null,
   "id": "1e42388a",
   "metadata": {},
   "outputs": [],
   "source": [
    "# Definition for a binary tree node.\n",
    "# class TreeNode:\n",
    "#     def __init__(self, val=0, left=None, right=None):\n",
    "#         self.val = val\n",
    "#         self.left = left\n",
    "#         self.right = right\n",
    "\n",
    "class Solution:\n",
    "    def isValidBST(self, root: Optional[TreeNode]) -> bool:\n",
    "        def valid(node, left, right):\n",
    "            if not node:\n",
    "                return True\n",
    "            if not (node.val < right and node.val > left):\n",
    "                return False\n",
    "            \n",
    "            return (valid(node.left, left, node.val) and valid(node.right, node.val,right))\n",
    "        return valid(root,float(\"-inf\"),float(\"inf\"))\n",
    "                \n",
    "#Divide and Conquer Algorithm: \n",
    "#1. Divide -> How do we divide the problem into a set of subproblems (We need at least two sub-problems)? We divide our problem of checking whether the tree rooted at the initial root is a valid BST by checking if it's left subtree is a valid BST and its right subtree is a valid BST. Once we reached the base cases (i.e the current root of either the tree or subtree is a leaf node or the current root is NULL). We stop recursing. \n",
    "\n",
    "#2. Conquer -> Recursively solve each of the subproblems. We recursively solve each of the subproblems by invoking isValid BST on the left subtree and right subtree of the current root. If they both return true, we need to check for two cases: if both return true and the left child's value is less than the root's value and the right child's value is greater than the current's root value, then we know that the tree rotted at the current root is also a valid BST. So we recursively backtrack up the tree and make sure the subtree themselves are valid BSTs and if they are not, then we will return false and backtrack to the original caller and have it return false. If I myself is a root node and not a valid BST but my children are, I will still return false and backtrack up to the original caller to have it return false. \n",
    "\n",
    "#3. Combine -> Refer to the conquer section, but at every level of the binary tree, we check the result of its subproblems(i.e subtrees) and see if they are valid BSTs. Both subtrees must be valid BSTs in order for me as the root node to check if I am a valid BST. If either of them are not, we combine the results by saying that I myself as the root node am not a valid BST. \n",
    "\n",
    "#Base Case: If the current root is a lead node, return True since a tree with a single node is indeed a valid BST. It doesn't have a left subtree nor right subtree so it fulfills the three properties of the BST above. If the current root is NULL, we still have a valid BST since an empty rooted at the current root does not even have any nodes for us to compare its left subtree and right subtree values so it fulfills the three properties of the BST above. So return True in this case. This accounts for the case where our tree node has only a single child (either a left child or a right child but not both). Because we only have to check the value of the  child that exist and compare it to the root value. The other null subtree will be considered a valid BST.\n",
    "\n",
    "#Runtime Analysis: O(N) where N is the number of nodes in the binary tree since we must perform a full traversal of the tree (DFS). We go all the way down a path of the tree at a time and backtrack to check to see if any of the subtrees are not a valid BST at any point, making the entire tree an invalid BST or not a BST. \n",
    "\n",
    "#Space Complexity: In the worst case, our binary tree is a stick with only left children or only right children but not both. We have a recursion stack to store our recursion calls that will be executed in LIFO order. Once we hit the base case, but in the case of a stick geometry, we will have to invoke the recursive function on all nodes and store them in the recursion tree before reaching any base case. Since there are N nodes in the binary tree, our runtime would be O(N). IN the best case, our binary tree is a perfect tree (full and complete tree), so every node will have both its children, (important especially at level h - 1). The height of a perfect tree is logN. Since we perform DFS, we will go down a full path (logN nodes) of our binary tree before hitting the base case and then start to execute the recursion calls. So the max number of elements in our recursion stack would be logN at any moment of time since we pop from the stack once we are done executing a recursive call.   "
   ]
  }
 ],
 "metadata": {
  "kernelspec": {
   "display_name": "Python 3 (ipykernel)",
   "language": "python",
   "name": "python3"
  },
  "language_info": {
   "codemirror_mode": {
    "name": "ipython",
    "version": 3
   },
   "file_extension": ".py",
   "mimetype": "text/x-python",
   "name": "python",
   "nbconvert_exporter": "python",
   "pygments_lexer": "ipython3",
   "version": "3.9.12"
  }
 },
 "nbformat": 4,
 "nbformat_minor": 5
}
