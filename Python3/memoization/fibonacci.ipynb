{
 "cells": [
  {
   "cell_type": "markdown",
   "id": "33175964",
   "metadata": {},
   "source": [
    "### https://leetcode.com/problems/fibonacci-number/submissions/"
   ]
  },
  {
   "cell_type": "code",
   "execution_count": 5,
   "id": "9bf1d056",
   "metadata": {},
   "outputs": [],
   "source": [
    "def fib(n):\n",
    "    if n <= 1:\n",
    "        return n\n",
    "    return self.fib(n - 1) + self.fib(n - 2)"
   ]
  },
  {
   "cell_type": "code",
   "execution_count": null,
   "id": "4ac229ff",
   "metadata": {},
   "outputs": [],
   "source": [
    "# class Solution:\n",
    "#     def __init__(self):\n",
    "#         self.cache = {}\n",
    "#     def fib(self, N: int) -> int:\n",
    "#         \"\"\"\n",
    "#         #basic solution\n",
    "#         if N < 0 or N == None : return None\n",
    "#         if N < 2: return N\n",
    "#         else:\n",
    "#             return self.fib(N-1) + self.fib(N-2)\n",
    "#         \"\"\"\n",
    "#         #memoization solution \n",
    "#         if N < 0 or N == None: return None\n",
    "#         if N in self.cache: return self.cache[N]\n",
    "#         if N < 2: \n",
    "#             self.cache[N] = N\n",
    "#             return N \n",
    "#         else:\n",
    "#             res = self.fib(N-1) + self.fib(N-2)\n",
    "#             self.cache[N] = res \n",
    "#             return res"
   ]
  },
  {
   "cell_type": "code",
   "execution_count": null,
   "id": "d4eaca69",
   "metadata": {},
   "outputs": [],
   "source": [
    "#Recursive Approach using memoization\n",
    "#Base case: The base case occurs when the input n is either 0 or 1 return 0. If n is 1 return 1\n",
    "#This is the standard Fibonacci sequence\n",
    "\n",
    "#Runtime: O(n)\n",
    "#Space Complexity: O(n) because we use a hashmap to store the intermediate results (i.e the Fibonacci numbers)\n",
    "#for each of the subproblem - smaller values of n. The hashmap will store only key values for the Fibonnaci numbers of\n",
    "#0 ... n. O(n^2) or O(n) by using memoization we reduced it from big O(2^n) to whatever it is. \n",
    "\n"
   ]
  }
 ],
 "metadata": {
  "kernelspec": {
   "display_name": "Python 3 (ipykernel)",
   "language": "python",
   "name": "python3"
  },
  "language_info": {
   "codemirror_mode": {
    "name": "ipython",
    "version": 3
   },
   "file_extension": ".py",
   "mimetype": "text/x-python",
   "name": "python",
   "nbconvert_exporter": "python",
   "pygments_lexer": "ipython3",
   "version": "3.9.12"
  }
 },
 "nbformat": 4,
 "nbformat_minor": 5
}
