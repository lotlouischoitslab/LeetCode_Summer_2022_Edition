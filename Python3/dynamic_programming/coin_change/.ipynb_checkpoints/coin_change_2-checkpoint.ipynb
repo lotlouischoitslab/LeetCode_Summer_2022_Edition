{
 "cells": [
  {
   "cell_type": "markdown",
   "id": "bb390968",
   "metadata": {},
   "source": [
    "#### https://leetcode.com/problems/coin-change-2/\n",
    "\n",
    "##### https://leetcode.com/problems/coin-change-2/discuss/1135391/Java-clean-2D-1D-Dynamic-Programming-Solution-oror-with-detailed-comments"
   ]
  },
  {
   "cell_type": "markdown",
   "id": "691b9527",
   "metadata": {},
   "source": [
    "### Extra Resources:\n",
    "- #### https://www.youtube.com/watch?v=jaNZ83Q3QGc&t=2s"
   ]
  },
  {
   "cell_type": "markdown",
   "id": "a9e60750",
   "metadata": {},
   "source": [
    "# Algorithm\n",
    "Unbounded Knapsack Problem\n",
    "Counting DP: We are asked to compute distinct number of combinations that make up an amount. So, our recurrence relation, we will likely need to add our subproblem results to find the total number of something as opposed to taking the max/min among them. From our base case, we will likely return a non-zero value. For a combination, order doesn't matter, meaning that if the frequency of coin denominations between two combinations, they are duplicate combinations and are only considered as a single distinct combination. \n",
    "\n",
    "State Variable: \n",
    "accumulated represents the amount of money we have accumulated thus far from some combination of coins. This is the minimum piece of information we need for any scenario because it helps us identify when we have reached the base case and need to stop recursion. \n",
    "i represents an index into the input list of coins. This index is the start of a subarray from the list of coins from which we may choose a coin denomination value to add our combinations. \n",
    "\n",
    "Top-Down (Memoization) Approach:\n",
    "1. Function or data structure to compute/hold the answer to the problem for every state. We will implement a recursive function dp to compute the total number of combinations that make up the amount passed in as input to the function change. The state that changes from recursive call to recursive call is the amount we have accumulated thus far and the index into the input list of coins (our subproblems are overlapping, so we will have recursive calls with duplicate inputs). So, we are computing the total number of combinations that make up the total amount starting from what we have already accumulated. This is why our subproblem is simpler than the original problem. We also memoize our intermediate results in our cache so that when we encounter duplicate inputs, we don't have to branch out to more recursive calls via our recurrence relation. We can simply perform a constant-time lookup in our dictionary and return the value that corresponds to the total number of combinations needed to make up the total amount starting from the amount we've accumulated and the index into the list of coins (which represents the start of the subarray from the list of coins from which we may choose a particular coin denomination value). This will reduce our branching factor for recursive calls with duplicate inputs. \n",
    "\n",
    "2. A recurrence relation to transition between states.\n",
    "Our recurrence relation will be dynamic since we will iterate through each coin domination value in it. If it were static, then we would branch out to the same number of recursive calls regardless of the size of the input list of coins we've passed in (total number of coin denominations). However, our branching factor is variable, meaning that without seeing our problem, we cannot determine what it is. It's neccessary to go through each coin denomination value and consider whether or not it will form a valid combination with the coins that have already accumulated the input ampount since we would like the total number of distinct combinations. We start adding coin denominations from index i to our current combination to check if it forms a valid combination to prevent against forming a duplicate combination where the frequency or the coin denominations are the exact same but the order of sequence of of coin values differ. For example, if we begin our  combination with a coin value of i and then generate another combination starting from a value of 2, by adding a coin with value 2 to the first combination, we risk the possibility that our second combination becomes a duplicate of the first, just with a different order. We can see this is the case by adding a coin denomination of value i. If the amount we're expected to accumulate is 3, both would be considered valid combinations. However, they are not reordered as distinct combination as the frequency of coin denomination values that  constitute each are the exact same.\n",
    "\n",
    "Algorithm:\n",
    "1. Iterate through each of the coin denomination starting index i. Add the value of each coin denomination to the amount we've accumulated thus far. Pass this as an argument for the subproblem recursive call. For the second argument to the subproblem recursive call, pass the current index we are at in our list of coins. \n",
    "\n",
    "2. Return the sum of the results of all subproblem recursive calls.\n",
    "\n",
    "3. A base case to stop recursion \n",
    "When the amount we've accumulated exceeds the amount we've expected to accumulate, we have no way of reaching the amount we're expected to accumulate. All we can do from here is add more coins to the combination, which would only end up increasing the amount we've accumulated. So, instead of calling our recursive function dp infinitely, we know that our current combination of coins is already invalid (in that it has no way of reaching the expected amount), so return 0. Ultimately, if no combination of coins can make up the expected amount, we will return 0. When the amount we've accumulated equals the amount we're expected to accumulate, we have a valid combination of coins, so return 1. \n",
    "\n",
    "Bottom-Up Approach (Tabulation)\n",
    "We will incorporate a 2d array dp where the index into the first dimension or the array is the first variable, or the amount we have accumulated up to that point point for some combination, and the input into the second dimension of the array is the second state variable, or the index into the input list of coins representing the store of a subarray of the list. In the top-down approach, we started from the initial problem and invoked our recursive function dp for each of our subproblems until we hit the base case. In the case of the bottom-up approach, we don't have the luxury of waiting until the base case is hit before resolving our recursive calls and figuring out our subproblem results. Instead, we'll start from our base case and iterate backwards (at least in terms of the outer for loop). We will implement a nested for loop where the outer for loop iterates through different amount we've accumulated ranging from 0 to the expected amount (which we are passed as input to the function change), and the inner for loop iterates through the input list of coins starting from index 1. We will make a forward pass through the list of coins starting from the index 1 as opposed to a backwards pass to maintain consistency with the dynamic recurrence relation from the top-down implementation. We will translate all recursive invocations of function dp from the top-down apporach into 2d array lookups in our bottom-up approach. Our initial problem for which we called out function dp was for as accumulated amount of 0 and a starting index into the input list of coins of 0. We will initialize the entries of our 2d matrix to 0 since an accumulated amount that exceeds the expected amount (our first base case) cannot be represented within the bounds of the first dimension of our 2d matrix dp. This 2d matrix will store a total of amount lists (input to function change). Therefore, we will not be able to index into the first dimension with a position with a position that exceeds the expected amount. If there is no valid combination of coins that make up the expected amount, dp[0][0] will not get updated, so we will return the value is not initialized to 0. We will also initialize all entries in the list corresponding to the expected amount to 1 dp[amount] to cover the second base case. "
   ]
  },
  {
   "cell_type": "code",
   "execution_count": null,
   "id": "727cfe66",
   "metadata": {},
   "outputs": [],
   "source": [
    "#Top-Down Approach (Memoization)\n",
    "# class Solution:\n",
    "#     def dp(self,accumulated,i,combinations,amount,coins):\n",
    "#         if accumulated > amount:\n",
    "#             return 0\n",
    "#         if accumulated == amount:\n",
    "#             return 1\n",
    "#         if (accumulated,i) in combinations:\n",
    "#             return combinations[(accumulated,i)]\n",
    "        \n",
    "#         valid_combinations = 0\n",
    "#         for j in range(i,len(coins)):\n",
    "#             valid_combinations += self.dp(accumulated+coins[j],j,combinations,amount,coins)\n",
    "        \n",
    "#         combinations[(accumulated,i)] = valid_combinations\n",
    "#         return combinations[(accumulated,i)]\n",
    "    \n",
    "#     def change(self, amount: int, coins: List[int]) -> int:\n",
    "#         combinations = dict()\n",
    "#         return self.dp(0,0,combinations,amount,coins)"
   ]
  },
  {
   "cell_type": "code",
   "execution_count": null,
   "id": "a06072d4",
   "metadata": {},
   "outputs": [],
   "source": [
    "#Bottom-Up Approach (Tabulation)\n",
    "class Solution:\n",
    "    def change(self, amount: int, coins: List[int]) -> int:\n",
    "        dp = []\n",
    "        for i in range(amount+1):\n",
    "            list = []\n",
    "            for j in range(len(coins)):\n",
    "                list.append(0)\n",
    "            dp.append(list)\n",
    "        \n",
    "        for j in range(len(coins)):\n",
    "            dp[amount][j] = 1\n",
    "        \n",
    "        for acc in range(amount,-1,-1):\n",
    "            for i in range(len(coins)-1,-1,-1):\n",
    "                valid_combination = 0\n",
    "                for j in range(1,len(coins)):\n",
    "                    if acc + coins[j] <= amount:\n",
    "                        valid_combination += dp[acc+coins[j]][j]\n",
    "                dp[acc][i] = valid_combination\n",
    "        return dp[0][0]"
   ]
  },
  {
   "cell_type": "code",
   "execution_count": null,
   "id": "26a05934",
   "metadata": {},
   "outputs": [],
   "source": [
    "#Optimized Bottom-Up Approach (Tabulation)\n",
    "#Runtime: O(n)\n",
    "#Space Complexity: O(n)\n",
    "class Solution:\n",
    "    def change(self, amount: int, coins: List[int]) -> int:\n",
    "        dp = [0] * (amount+1)\n",
    "        dp[0] = 1\n",
    "        for i in range(len(coins)-1,-1,-1):\n",
    "            nextDP = [0]*(amount+1)\n",
    "            nextDP[0] = 1\n",
    "            \n",
    "            for j in range(1,amount+1):\n",
    "                nextDP[j] = dp[j]\n",
    "                if j - coins[i] >= 0:\n",
    "                    nextDP[j] += nextDP[j-coins[i]]\n",
    "            dp = nextDP\n",
    "        return dp[amount]"
   ]
  }
 ],
 "metadata": {
  "kernelspec": {
   "display_name": "Python 3 (ipykernel)",
   "language": "python",
   "name": "python3"
  },
  "language_info": {
   "codemirror_mode": {
    "name": "ipython",
    "version": 3
   },
   "file_extension": ".py",
   "mimetype": "text/x-python",
   "name": "python",
   "nbconvert_exporter": "python",
   "pygments_lexer": "ipython3",
   "version": "3.9.12"
  }
 },
 "nbformat": 4,
 "nbformat_minor": 5
}
