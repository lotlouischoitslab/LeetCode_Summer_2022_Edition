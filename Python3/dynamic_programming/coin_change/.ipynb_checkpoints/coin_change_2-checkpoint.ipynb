{
 "cells": [
  {
   "cell_type": "markdown",
   "id": "bb390968",
   "metadata": {},
   "source": [
    "#### https://leetcode.com/problems/coin-change-2/\n",
    "\n",
    "##### https://leetcode.com/problems/coin-change-2/discuss/1135391/Java-clean-2D-1D-Dynamic-Programming-Solution-oror-with-detailed-comments"
   ]
  },
  {
   "cell_type": "markdown",
   "id": "691b9527",
   "metadata": {},
   "source": [
    "### Extra Resources:\n",
    "- #### https://www.youtube.com/watch?v=jaNZ83Q3QGc&t=2s"
   ]
  },
  {
   "cell_type": "markdown",
   "id": "a9e60750",
   "metadata": {},
   "source": [
    "# Algorithm"
   ]
  },
  {
   "cell_type": "code",
   "execution_count": null,
   "id": "727cfe66",
   "metadata": {},
   "outputs": [],
   "source": []
  }
 ],
 "metadata": {
  "kernelspec": {
   "display_name": "Python 3 (ipykernel)",
   "language": "python",
   "name": "python3"
  },
  "language_info": {
   "codemirror_mode": {
    "name": "ipython",
    "version": 3
   },
   "file_extension": ".py",
   "mimetype": "text/x-python",
   "name": "python",
   "nbconvert_exporter": "python",
   "pygments_lexer": "ipython3",
   "version": "3.9.12"
  }
 },
 "nbformat": 4,
 "nbformat_minor": 5
}
