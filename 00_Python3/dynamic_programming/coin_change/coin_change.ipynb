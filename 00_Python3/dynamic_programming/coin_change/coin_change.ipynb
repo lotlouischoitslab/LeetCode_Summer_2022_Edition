{
 "cells": [
  {
   "cell_type": "markdown",
   "id": "dafeff42",
   "metadata": {},
   "source": [
    "# https://leetcode.com/problems/coin-change/"
   ]
  },
  {
   "cell_type": "markdown",
   "id": "57a7309c",
   "metadata": {},
   "source": [
    "# Algorithm VERY HARD\n",
    "\n",
    "State Variable:\n",
    "What is the minimum piece of information needed for any scenario?\n",
    "#Let to_accumulate represent the amount of money we want to accumulate (and for this problem, with the fewest number of coins possible)\n",
    "\n",
    "Top-Down (Memoization) Approach:\n",
    "1. A function or data structure to compute/hold the answer to the problem for every state.\n",
    "In this case of the top-down approach, we will implement a function dp, which will return the fewest number of coins needed to make up the amount that is passed in as input to the function. If the total amount of money passed in as input to the function coinChange we want to add the coin values up to cannot be made up by any combination of coins, we will return -1. We will incorporate a cache to memoize our intermediate results so that we don't re-compute the fewest number of coins needed to make up the amount to accumulate for a duplicate input. Once we've figured out a subproblem result, the result won't change if we encounter the same subproblem again. So, let's cache our results to prevent out current recursive call from branching out to N recursive calls where N = length of the coin even for duplicate inputs for which we have already figured out the answer. In other words, N is the number of coins denominations we can pick and choose from. We can immediately resolve a recursive call for a duplicate input by performing a constant-time lookup in our dictionary so this recursive call can be popped from the recursion stack even before hitting the base case. \n",
    "\n",
    "Bottom-Up Approach (Tabulation):\n",
    "In the case of the bottom-up approach   \n",
    "\n",
    "2. A recurrence relation to transition between the states.\n",
    "#Notice the amount of coin denominations we can choose from and make a recursive call for is variable. This means that our recurrence relation is dynamic since the number of recursive calls we an make (i.e the branching factor of our recursion tree) changes depending on the size of the input list of coins passed in to the function coinChange. This means that we will need to incorporate iteration into our recurrence relation. We will go through each coin denomination choice, and for each, we will make a recursive call where we subtract the coin value from the amount we need to accumulate, which is another way of saying that we add the coin value to the amount we have accumulated this for when we proceed with executing the recursive call. Whichever subproblem gives us the smallest results is the coin combination we'll go with. To the fewest number of coin that this subproblem recursive call outputs, we will add 1 and return from our current recursive call since we contribute a coin to the fewest number of coins as a result of having subtracted the value of the coin denomination from the output we need to accumulate. \n",
    "\n",
    "Mathematically, dp[to_accumulate]  = 1 + min(dp(to_accumulate - coin[c])) for all 0 <= c < length of coin = N. \n",
    "\n",
    "3. Base case to stop recursion\n",
    "When the amount we need to accumulate is repeating, this is impossible. For a combination of coins that cannot accumulate the total amount passed in as input to the function coinChange, the problem statement tells us to return -1. However, in our recurrence relation, we are looking for the minimum of our subproblem results. So, if we were to return -1, this would immediately dominate the minimum expression, which could potentially outrule a valid combination since the fewest number of coins needed to accumulate that amount (if non-zero) would be positive (or zero if zero). Therefore, whenever the amount to accumulate that's passed in as input to our function dp is repetive, we will return the max int so that all other coin combinations our considered before ruling that no sum of coin denomination values could result in the total amount. If the amount we need to accumulate is 0, then we don't need any coin values to add up to it, so return 0 as well. "
   ]
  },
  {
   "cell_type": "code",
   "execution_count": null,
   "id": "9effd573",
   "metadata": {},
   "outputs": [],
   "source": [
    "#Top-Down Approach\n",
    "class Solution:\n",
    "    def dp(self,to_accumulate,fewest_coins,coin):\n",
    "        if to_accumulate < 0:\n",
    "            return float('inf')\n",
    "        if to_accumulate == 0:\n",
    "            return 0\n",
    "        if to_accumulate in fewest_coins:\n",
    "            return fewest_coins[to_accumulate]\n",
    "        \n",
    "        min_subproblem_result = float('inf')\n",
    "        \n",
    "        for c in range(len(coin)):\n",
    "            subproblem_result = self.dp(to_accumulate - coin[c],fewest_coins,coin)\n",
    "            if subproblem_result < min_subproblem_result:\n",
    "                min_subproblem_result = subproblem_result\n",
    "                \n",
    "        fewest_coins[to_accumulate] = subproblem_result + 1\n",
    "        return fewest_coins[to_accumulate]\n",
    "                \n",
    "    def coinChange(self, coins: List[int], amount: int) -> int:\n",
    "        fewest_coins = dict()\n",
    "        smallest_combinations = self.dp(amount,fewest_coins,coins)        \n",
    "        return smallest_combinations if smallest_combinations != float('inf') else -1"
   ]
  },
  {
   "cell_type": "code",
   "execution_count": null,
   "id": "9005367e",
   "metadata": {},
   "outputs": [],
   "source": [
    "#Bottom-Up Approach\n",
    "class Solution: \n",
    "    def coinChange(self, coins: List[int], amount: int) -> int:\n",
    "        dp = [amount+1] * (amount+1)\n",
    "        dp[0] = 0\n",
    "        \n",
    "        for a in range(1,amount+1):\n",
    "            for c in coins:\n",
    "                if a - c >= 0:\n",
    "                    dp[a] = min(dp[a],1+dp[a-c])\n",
    "        return dp[amount] if dp[amount] != amount + 1 else -1 #O(amount*len(coin))"
   ]
  }
 ],
 "metadata": {
  "kernelspec": {
   "display_name": "Python 3 (ipykernel)",
   "language": "python",
   "name": "python3"
  },
  "language_info": {
   "codemirror_mode": {
    "name": "ipython",
    "version": 3
   },
   "file_extension": ".py",
   "mimetype": "text/x-python",
   "name": "python",
   "nbconvert_exporter": "python",
   "pygments_lexer": "ipython3",
   "version": "3.9.12"
  }
 },
 "nbformat": 4,
 "nbformat_minor": 5
}
