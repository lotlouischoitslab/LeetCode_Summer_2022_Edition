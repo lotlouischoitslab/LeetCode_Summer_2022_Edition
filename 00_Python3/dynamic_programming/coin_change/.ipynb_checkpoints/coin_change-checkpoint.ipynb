{
 "cells": [
  {
   "cell_type": "markdown",
   "id": "dafeff42",
   "metadata": {},
   "source": [
    "# https://leetcode.com/problems/coin-change/"
   ]
  },
  {
   "cell_type": "code",
   "execution_count": null,
   "id": "de85fe46",
   "metadata": {},
   "outputs": [],
   "source": [
    "class Solution:\n",
    "    def coinChange(self, coins: List[int], amount: int) -> int:\n",
    "        def dp(accum,coins,amount,cache):\n",
    "            if accum == amount:\n",
    "                return 0\n",
    "            if accum > amount:\n",
    "                return -1\n",
    "            \n",
    "            fewest_coins = float('inf')\n",
    "            for c in range(len(coins)):\n",
    "                if coins[c] == float('inf'):\n",
    "                    continue\n",
    "                ret = dp(accum+coins[c], coins, amount, cache)\n",
    "                if ret < 0:\n",
    "                    continue\n",
    "                fewest_coins = min(fewest_coins, 1 + ret)\n",
    "            \n",
    "            if fewest_coins == float('inf'):\n",
    "                cache[accum] = -1\n",
    "            else:\n",
    "                cache[accum] = fewest_coins\n",
    "            \n",
    "            return cache[accum]\n",
    "            \n",
    "        cache = dict()\n",
    "        return dp(0,coins,amount,cache)\n",
    "        \n",
    "\n",
    "# State variables: What is the minimum piece of information that we need for any scenario?\n",
    "# accum = amount of money we have accumulated thus far and is only based on our previous choices for coin denominations, which has been summed together. \n",
    "\n",
    "# Top-Down (Memoization) Approach:\n",
    "# 1. A function to compute the answer to the problem for every state.\n",
    "# We'll have a function dp that will compute the fewest number of coins needed to accumulate the amount specified as the second parameter to our original function coinChange. We will need to consider all coin denominations inside our array of coins and make a recursive all accordingly for each coin to consider which of the coin demonination values will be enough to reach the amount in the fewest possible number of future recursive calls (fewest extra number of coins). We will also maintain a cache mapping from a int and accum (our state variables) to the fewest number of coins that we need starting from the amount that we have already accumulated and considering the index of each coin denomination, c. So, after the base cases and prior to implementing the recurrence relation, we will perform a hashmap lookup in O(1) time, eliminating the need to re-calculation the results of our subproblems with our recurrence relation for duplicate inputs. Without such a hashmap, our runtime would be O(N^S). \n",
    "\n",
    "# 2. A recurrence relation to transition between states.\n",
    "# We know from the previous componenet of the DP framework that we will need to consider every single coin choice, so we have to iterate through all our coin denominations. We will maintain a variable called fewest coins, which is initially initialized to the maximum int and then its value will be updated to take on the minimum of the return values from the recurrence relations for each of the coins + 1. \n",
    "\n",
    "#Therefore, mathematically our recurrence relation is 1 + dp(c, accum + coins[c]) where c indicate the choice of coin denomination whose value we'll add to the already accumulated amount thus far. We add 1 since we have considered an extra coin choice, so our consideration for the fewest number of coins that we need to make up the amount goes up by 1. \n",
    "\n",
    "# We'll update our fewest coins variable to take on this result if this result is less than the value it is storing thus far. Therefore, it will always maintain the minimum number of coins needed to reach the amount based on coin denominations (up to index c) that it has encountered thus far. \n",
    "\n",
    "# After a for loop, check to see if the variable fewest coins is 0. This means that all of our subproblem returned -1, so there is no combination of coins that we can get from adding any coin at index c that will get us to the amount. Therefore return -1 to indicate the failure of these combination of coins. \n",
    "\n",
    "# 3. Base case to stop recursion:\n",
    "# If the accumulated amount == amount we should accumulate return 0. We're done and return 0 since there is no more coins whose values we can add to the accumulated amount in order to reach the amount we originially intended to.\n",
    "\n",
    "# If the accumulated amount exceeded the amount we should accumulate, return -1 since that combination of coins was not able to make up the amount as described in the problem description. \n",
    "\n",
    "# Runtime Analysis:\n",
    "# O(S * N) where S is the amount and N is the number of coin denominations, or the size of the array of coins. In the worst-case scenario, we have only a couple of entries for the array of coins and all their values are small in magnitude, however, to couple that, we have a very large amount. If our coin denomination include a coind of value 1, then worst case possibility is accumulating the amount by adding only 1's. We will have to add 1 S times in order to reach the amount. So we'll have a total of S states as an upper bound. For each state, it takes O(N) extra work to compute the fewest number of points to reach the amount starting from the already accumulated amount and picking the coin denomination with a certain value at index c. We have to iterate through each coin for each state, so we multiply N to the number of states for an overall runtime of O(S * N) as the worst-case time complexity. \n",
    "\n",
    "#Space Complexity: O(S * N) As we mentioned above, the upper bound on the number of states is S. So, the upper bound on the size of the recursion stack will also be S, meaning in the worst case scenario as an upper boun, our recursion stack will store S recursive calls before hitting the base case and executing the recursive calls in LIFO order. \n",
    "\n",
    "\n"
   ]
  }
 ],
 "metadata": {
  "kernelspec": {
   "display_name": "Python 3 (ipykernel)",
   "language": "python",
   "name": "python3"
  },
  "language_info": {
   "codemirror_mode": {
    "name": "ipython",
    "version": 3
   },
   "file_extension": ".py",
   "mimetype": "text/x-python",
   "name": "python",
   "nbconvert_exporter": "python",
   "pygments_lexer": "ipython3",
   "version": "3.9.12"
  }
 },
 "nbformat": 4,
 "nbformat_minor": 5
}
