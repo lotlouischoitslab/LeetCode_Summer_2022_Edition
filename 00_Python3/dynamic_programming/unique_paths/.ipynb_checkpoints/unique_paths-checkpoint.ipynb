{
 "cells": [
  {
   "cell_type": "markdown",
   "id": "5131c654",
   "metadata": {},
   "source": [
    "### https://leetcode.com/problems/unique-paths/"
   ]
  },
  {
   "cell_type": "markdown",
   "id": "17225dd1",
   "metadata": {},
   "source": [
    "# Algorithm\n",
    "\n",
    "State Variables: What is the minimum piece of information needed for any scenario? \n",
    "#i represents the row in the grid (remember that the first dimension of the 2d matrix is 0-indexed)\n",
    "j represents the column in the grid (remember that the second dimension of the 2d matrix is also 0-indexed)\n",
    "Top-Down Approach (Memoization)/Bottom-Up Approach(Tabulation):\n",
    "\n",
    "1. A function or data structure to compute/hold the answer to the problem for every state\n",
    "We will make use of a recursive helper function dp. It will take as input the current row index and the current column index. The entry corresponding to this row and column index represents the top-left corner of either the entire grid or just a submatrix of it if both the current row and column index are not both 0. The purpose of the function dp is to compute the number of unique paths that the robot can take to reach the bottom-right corner of the grid (i.e grid[n-1][n-1]) starting from the top left corner whose coordinates are the current row and current column passed in as input to the function dp. We will also incorporate a cache to memoize our results so that we don't re-compute the result of a subproblem that has already been encountered, thereby reducing the runtime from O(2^(m*n)) where m = number of rows in the frid and m = number of columns in grid to just O(m*n). In other words, we will not re-compute the result for an input we've already encounter. So, we will maintain a cach mapping from a tuple pair as a key to an int as a value where the tuple pair represents our current grid position and the int represent the number of paths starting from the tuple pair coordinates as the top-left corner of a matrix to the bottom right-corner of the matrix. \n",
    "\n",
    "For Tabulation, we will maintain a 2d array whose dimensions match the paramters (i.e. its number of rows is m and the row indices range from 0 to m - 1 and its number of columns is n and the column indices range from 0 to n - 1). Each of dp's entries will store the number of unique paths starting from the current 2d array dp position as the top-left corner of a matrix/sub-matrix to the bottom-right corner of the entire 2d array (i.e dp[m-1][n-1]). We will need to iterate backwards since we only know that the number of unique paths for all of the last row and last column entries of the grid will be 1. This is because for the bottom row of the grid, there is no entry below it, meaning that the number of unique paths can only be equal to the number of unique paths of the matrix entry to the right of the current one in the last row. Once we recah the rightmost element in the last row, we will return 1 and then in the case of the top-down approach, we would have executed the recursive calls in LIFO order, each time updating the entries in the bottom row all to 1. Likewise, for the rightmost column, there is no entry to the right of the each entry in the rightmost column, so we can also set them to 1 since they can only be equal to the matrix results below them.Since we know the results for our last row and last column, we will need to start from them and work our way to the top-left corner of the grid (i.e dp[0][0]).\n",
    "\n",
    "2. A recurrence relation to transition between states.\n",
    "We know that we can only move down or right from our current matrix position in an attempt to reach the bottom-right corner of the grid. So, the number of unique paths from our current grid position is the sum of the number of unique paths from the matrix entry below us plus the number of unique paths from matrix entry to the right of us. \n",
    "\n",
    "Mathematically, dp[i][j] = dp[i+1][j] + dp[i][j+1] \n",
    "\n",
    "3. Base Case to stop recursion\n",
    "As we determined above, when we are at the last row or the last column of the grid, the number of unique paths to reach the bottom right-corner of the matrix is 1. This is because once we reach the bottom-right corner, and we have a sub-matrix of only one entry, the top-left corner and bottom-right corner of the submatrix are the exact same, meaning that the number of unique paths to reach the bottom right corner would be 1 since we are already at the bottom right corner. If we are in the last row of the grid, the only way to reach the bottom-right corner of the grid is to move to the right, so there is once again only one unique path to reach the bottom-right corner. If we are in the last column of the grid, the only way to reach the bottom-right corner of the grid is to move down, so there is only one unique path once again to reach the bottom-right corner. \n",
    "\n",
    "Implementation-wise, if i == n - 1 or j == n - 1, return 1"
   ]
  },
  {
   "cell_type": "code",
   "execution_count": null,
   "id": "cedd6fb4",
   "metadata": {},
   "outputs": [],
   "source": [
    "#Top-Down Approach (Memoization)\n",
    "class Solution:\n",
    "    def uniquePaths(self, m: int, n: int) -> int:\n",
    "        def dp(i,j,cache,m,n):\n",
    "            if i == m - 1 or j == n-1:\n",
    "                return 1\n",
    "            if (i,j) in cache:\n",
    "                return cache[(i,j)]\n",
    "            cache[(i,j)] = dp(i+1,j,cache,m,n) + dp(i,j+1,cache,m,n)\n",
    "            return cache[(i,j)]\n",
    "        cache = dict()\n",
    "        return dp(0,0,cache,m,n)"
   ]
  },
  {
   "cell_type": "code",
   "execution_count": null,
   "id": "874fd6b2",
   "metadata": {},
   "outputs": [],
   "source": [
    "#Bottom-Down Approach (Tabulation)\n",
    "class Solution:\n",
    "    def uniquePaths(self, m: int, n: int) -> int:\n",
    "        dp = []\n",
    "        for i in range(m):\n",
    "            list = []\n",
    "            for j in range(n):\n",
    "                list.append(1)\n",
    "            dp.append(list)\n",
    "        \n",
    "        for i in range(m-2,-1,-1):\n",
    "            for j in range(n-2,-1,-1):\n",
    "                dp[i][j] = dp[i+1][j] + dp[i][j+1]\n",
    "        return dp[0][0]"
   ]
  }
 ],
 "metadata": {
  "kernelspec": {
   "display_name": "Python 3 (ipykernel)",
   "language": "python",
   "name": "python3"
  },
  "language_info": {
   "codemirror_mode": {
    "name": "ipython",
    "version": 3
   },
   "file_extension": ".py",
   "mimetype": "text/x-python",
   "name": "python",
   "nbconvert_exporter": "python",
   "pygments_lexer": "ipython3",
   "version": "3.9.12"
  }
 },
 "nbformat": 4,
 "nbformat_minor": 5
}
