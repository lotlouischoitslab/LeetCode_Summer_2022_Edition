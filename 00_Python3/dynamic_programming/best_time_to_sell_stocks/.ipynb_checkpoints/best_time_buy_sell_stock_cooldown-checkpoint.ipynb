{
 "cells": [
  {
   "cell_type": "markdown",
   "id": "df5ab11e",
   "metadata": {},
   "source": [
    "### https://leetcode.com/problems/best-time-to-buy-and-sell-stock-with-cooldown/"
   ]
  },
  {
   "cell_type": "markdown",
   "id": "1183b1fc",
   "metadata": {},
   "source": [
    "# Algorithm"
   ]
  },
  {
   "cell_type": "code",
   "execution_count": null,
   "id": "f0f39b3b",
   "metadata": {},
   "outputs": [],
   "source": []
  }
 ],
 "metadata": {
  "kernelspec": {
   "display_name": "Python 3 (ipykernel)",
   "language": "python",
   "name": "python3"
  },
  "language_info": {
   "codemirror_mode": {
    "name": "ipython",
    "version": 3
   },
   "file_extension": ".py",
   "mimetype": "text/x-python",
   "name": "python",
   "nbconvert_exporter": "python",
   "pygments_lexer": "ipython3",
   "version": "3.9.12"
  }
 },
 "nbformat": 4,
 "nbformat_minor": 5
}
