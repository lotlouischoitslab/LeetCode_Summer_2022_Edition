{
 "cells": [
  {
   "cell_type": "markdown",
   "id": "32c166b5",
   "metadata": {},
   "source": [
    "### https://leetcode.com/problems/min-cost-climbing-stairs/"
   ]
  },
  {
   "cell_type": "code",
   "execution_count": null,
   "id": "cae2bcbe",
   "metadata": {},
   "outputs": [],
   "source": [
    "#Memoization: Top-Down\n",
    "#Tabulation: Bottom-Up Approach: (More optimized than Memoization)\n",
    "class Solution:\n",
    "    def minCostClimbingStairs(self, cost: List[int]) -> int:\n",
    "        #if the length of the cost is 0, then just return 0\n",
    "        if len(cost) == 0:\n",
    "            return 0\n",
    "        \n",
    "        #we want the minimum cost of reaching the top of the floor, \n",
    "        #not the very last step\n",
    "        \n",
    "        dp = [0] * (len(cost) + 1)  \n",
    "        dp[0] = 0\n",
    "        dp[1] = 0\n",
    "        \n",
    "        for i in range(2,len(cost)+1):\n",
    "            dp[i] = min(dp[i - 1] + cost[i - 1], dp[i - 2] + cost[i - 2])\n",
    "        \n",
    "        return dp[len(cost)]"
   ]
  },
  {
   "cell_type": "code",
   "execution_count": null,
   "id": "48862cec",
   "metadata": {},
   "outputs": [],
   "source": [
    "#Bottom-Up Approach without array\n",
    "class Solution:\n",
    "    def minCostClimbingStairs(self, cost: List[int]) -> int:\n",
    "        if len(cost) == 0:\n",
    "            return 0\n",
    "        \n",
    "        prev_step = 0 #previous step is 0\n",
    "        prev_prev_step = 0 #previous previous step is 0\n",
    "        \n",
    "        #What happens if we move on to the very next step\n",
    "        #\n",
    "        \n",
    "        for i in range(2, len(cost)+1):\n",
    "            temp = prev_step\n",
    "            prev_step = min(prev_step + cost[i - 1], prev_prev_step + cost[i - 2])\n",
    "            prev_prev_step = temp\n",
    "            \n",
    "        return prev_step"
   ]
  },
  {
   "cell_type": "code",
   "execution_count": null,
   "id": "b9d18dd2",
   "metadata": {},
   "outputs": [],
   "source": [
    "#Tabulation: \n",
    "#Runtime Analysis: O(N) where N is the size of list cost + 1 because we have a for loop that iterates from i = 2 to cost_size + 1 both inclusive, so we do a traversal of our array dp. In the case of memoization, it's also O(N) because we have N recursive calls where we make use of recurrence relation, which requires two recursive invocations. When we first encounter an unique input aside from the base cases, we will use our recurrence relation. When we encounter the same input again, we will ook for a cache for a constant lookup/retrieval. Tabulation is more runtime efficient than memoization because it gets rid of that recursive overhead of making the recursive calls. \n",
    "\n",
    "#Space Complexity: O(N) where N is once again the size of the vector cost. In the case of memoization, we have a recursion stack that stores recursive calls that cannot be immediately resolved by cache lookup and we need to store N such recursive calls before we hit a base case and execute these recursive calls in LIFO order starting from the base case. In the case of tabulation, we have an array that stores size of cost + 1 elements, and this serves as the auxiliary data structure since the only value we really need to return in the end is what is located at index cost[len(cost)]. \n",
    "\n",
    "#Tabulation without array:\n",
    "#Notice that we really only every ask our array what is located at index i - 1 and index i - 2 to be able to determine the value that we should store at index i. We can instead replace this entire array with two pointers that I will call prev_step and prev_prev_step. prev_step will store the minimum cost to reach the previous step, or the step at index i - 1. prevprev_step will store the minimum cost to reach its previous step, or the step at index i - 2. Now, we only need to figure out how to change the values of our pointers every iteration of our loop. On the next iteration, what was originially at index i will now be at index i - 1 and what was originally at index i - 1 will be at index i - 2. So, every iteration, we will want to update prev_step to now store min(prev_step + cost[i - 1], prev_prev_step + cost[i-2]). Before this, let's have a temporary pointer to store prev_step's value (i.2 before the update) so that we can update prevprev_Step to hold this value.\n",
    "#AT the very beginning, we will have prev_step and prevprev_Step store 0's since we start from the step with index 0 or the stpe with index 1, so there is no cost associated with reaching these steps.\n",
    "\n",
    "#Space Complexity: O(1) because we don't have any additional auxiliary data structures (such as an array in the previous unoptimized approach). We simply maintain two pointers: prev_step and prev_prev step. Which overall require only constant memory usage. \n",
    "\n",
    "#Current:step with index i               \n",
    "#Previous: step with index i - 1         \n",
    "#Prevprev: step with index i - 2         \n",
    "\n",
    "#Currently: step with index i + 1\n",
    "#Previous: step with index i\n",
    "#Prevprev: step with index i - 1\n",
    "\n",
    "#Currently: step with index len(cost) - 1\n",
    "#Previous: step with index len(cost) - 2\n",
    "\n",
    "#Currently: step with index len(cost) \n",
    "#Previous: step with index len(cost) - 1\n",
    "#\n",
    "\n",
    "\n",
    "#We can optimize space complexity but not time complexity\n",
    "\n"
   ]
  },
  {
   "cell_type": "code",
   "execution_count": null,
   "id": "994b664a",
   "metadata": {},
   "outputs": [],
   "source": [
    "#Dynamic Programming:\n",
    "#1. Overlapping subproblems are required\n",
    "#2. Optimal sub-structure is required\n",
    "\n",
    "#Use both 1. and 2. to find the optimal solution\n",
    "\n"
   ]
  }
 ],
 "metadata": {
  "kernelspec": {
   "display_name": "Python 3 (ipykernel)",
   "language": "python",
   "name": "python3"
  },
  "language_info": {
   "codemirror_mode": {
    "name": "ipython",
    "version": 3
   },
   "file_extension": ".py",
   "mimetype": "text/x-python",
   "name": "python",
   "nbconvert_exporter": "python",
   "pygments_lexer": "ipython3",
   "version": "3.9.12"
  }
 },
 "nbformat": 4,
 "nbformat_minor": 5
}
