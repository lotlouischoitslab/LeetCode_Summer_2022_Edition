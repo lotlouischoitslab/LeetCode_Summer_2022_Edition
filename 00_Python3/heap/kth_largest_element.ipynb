{
 "cells": [
  {
   "cell_type": "markdown",
   "id": "df0590ce",
   "metadata": {},
   "source": [
    "### https://leetcode.com/problems/kth-largest-element-in-an-array/"
   ]
  },
  {
   "cell_type": "code",
   "execution_count": null,
   "id": "1d215c9c",
   "metadata": {},
   "outputs": [],
   "source": [
    "class Solution:\n",
    "    def findKthLargest(self, nums: List[int], k: int) -> int:\n",
    "        k = len(nums) - k\n",
    "        \n",
    "        def quickSelect(left,right):\n",
    "            pivot, p = nums[right], left\n",
    "            for i in range(left,right):\n",
    "                if nums[i] <= pivot:\n",
    "                    nums[p],nums[i] = nums[i],nums[p]\n",
    "                    p +=1\n",
    "                    \n",
    "            nums[p], nums[right] = nums[right], nums[p]\n",
    "            if p > k: return quickSelect(left, p - 1)\n",
    "            elif p < k: return quickSelect(p + 1,right) \n",
    "            else: return nums[p]\n",
    "        return quickSelect(0,len(nums)-1)\n",
    "                    \n",
    "  #Time Complexity: O(n)\n",
    "  #Space Complexity: O(n)"
   ]
  }
 ],
 "metadata": {
  "kernelspec": {
   "display_name": "Python 3 (ipykernel)",
   "language": "python",
   "name": "python3"
  },
  "language_info": {
   "codemirror_mode": {
    "name": "ipython",
    "version": 3
   },
   "file_extension": ".py",
   "mimetype": "text/x-python",
   "name": "python",
   "nbconvert_exporter": "python",
   "pygments_lexer": "ipython3",
   "version": "3.9.12"
  }
 },
 "nbformat": 4,
 "nbformat_minor": 5
}
