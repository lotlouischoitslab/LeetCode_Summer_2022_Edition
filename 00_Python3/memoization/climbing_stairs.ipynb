{
 "cells": [
  {
   "cell_type": "markdown",
   "id": "d49e435f",
   "metadata": {},
   "source": [
    "### https://leetcode.com/problems/climbing-stairs/"
   ]
  },
  {
   "cell_type": "code",
   "execution_count": 3,
   "id": "1a638e8d",
   "metadata": {},
   "outputs": [],
   "source": [
    "cache = {}\n",
    "def climbStairs(self, n):\n",
    "    if n < 3:\n",
    "        return n\n",
    "    else:\n",
    "        return self._climbStairs(n-1) + self._climbStairs(n-2)\n",
    "def _climbStairs(self, n):\n",
    "    if n not in self.cache.keys():\n",
    "        self.cache[n] = self.climbStairs(n)\n",
    "    return self.cache[n]"
   ]
  },
  {
   "cell_type": "code",
   "execution_count": null,
   "id": "1c867216",
   "metadata": {},
   "outputs": [],
   "source": [
    "#Recursion Brute Force:\n",
    "#Base Case: Notice that when n = 1, the only way to go up that staircase\n",
    "#which would be taking that step. We cannot break it down into a smaller subproblem \n",
    "#since climbstairs is not defined for n < 1. Notice that when n = 2, we have\n",
    "#two ways to go up that star case. We can either climb both steps at once. Otherwise\n",
    "#we can go one step at a time. We cannot break this down into a smaller subproblem\n",
    "#because according to the recurrence relation: climbStairs(n) = climbStairs(n - 1) + climbStairs(n - 2)\n",
    "#for n > 2 because climbStairs(0) is not defined which is n - 2 in the case that n = 2\n",
    "#Recurrence Relation: What is the relationship between the problem and the sub-problem?\n",
    "#The problem would be finding the number of distinct ways to climb a staircase of n steps\n",
    "#The sub problem would be finding the number of distinct ways to climb a staircase of less than n steps.\n",
    "#We can discover a Fibonacci sequence by finding climbStairs at position 4 yields 5 distinct ways\n",
    "#to climb up the staircase which is climbStairs(3) + climbStairs(2). And then, climbStairs(5) yields 8 distinct\n",
    "#ways to climb up a staircase of 5 steps which is climbStairs(4) + climbStairs(3). \n",
    "\n",
    "#Runtime Analysis: O(2^N). It increases exponentially with a larger N because may have duplicate \n",
    "#recursive calls technically n = 1, 2 ,3 would not have duplicate calls. Every time, we have a branching\n",
    "#factor of 2 because we call the recursive function on 1 less than the input and then on 2 less than the input.\n",
    "#Space Complexity: O(N) due to the recursion stack that is needed to store the recursion calls and then execute\n",
    "#them in a LIFO order. According to LIFO order, the last in should be the first one out. We have to finish making\n",
    "#the very last recursive call before backtracking to the very first recursive call. We have N recursion calls.\n",
    "\n",
    "#Recursion with Memoization:\n",
    "#Same idea as above except now we will use an auxiliary data structure to cache the results. Our cache will be\n",
    "#a hash map mapping from the number of steps in the staircase to the number of distinct ways to climb that staircase.\n",
    "#Now we will modify our algorithm to first check the cache and see if the input climb stairs already exist. If so\n",
    "#return the value. I.e the number of distinct ways to climb that staircase. If not, as opposed to straight up returning \n",
    "#the value for the number of distinct ways, insert it into the hashmap first before returning it.\n",
    "\n",
    "#Runtime Analysis: O(N) because we know we use a hashmap to cache our results. So we are not going to have duplicate\n",
    "#recursive calls that require us to use our recurrence relation. There will be one recursive call for each unique value.\n",
    "#that requires using the recurrence relation. If we see that value again as the input, we will refer to our cache and retrieve\n",
    "#its value in O(1) time. The runtime is N because we will have unique recursive calls that use the recurrence relation \n",
    "#for N = 3 ..... n. \n",
    "\n",
    "#Space complexity: This will be proportional to the runtime. \n",
    "#The recursion stack idea we had above still holds here.\n",
    "#Also we have an extra data structure to store the intermediate results for the number of distinct ways of climbing the steps\n",
    "#We will need to store values for keys N = 1 .... m in the cache which is O(N) space. Combining the recursion stack and the hashmap\n",
    "#we have O(N) overall memory usage. \n",
    "\n",
    "#If you ever have a recursion tree, the space complexity is based on the depth not the total number of nodes you have in it.\n"
   ]
  }
 ],
 "metadata": {
  "kernelspec": {
   "display_name": "Python 3 (ipykernel)",
   "language": "python",
   "name": "python3"
  },
  "language_info": {
   "codemirror_mode": {
    "name": "ipython",
    "version": 3
   },
   "file_extension": ".py",
   "mimetype": "text/x-python",
   "name": "python",
   "nbconvert_exporter": "python",
   "pygments_lexer": "ipython3",
   "version": "3.9.12"
  }
 },
 "nbformat": 4,
 "nbformat_minor": 5
}
