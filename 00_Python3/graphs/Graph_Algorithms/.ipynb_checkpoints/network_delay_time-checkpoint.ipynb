{
 "cells": [
  {
   "cell_type": "markdown",
   "id": "0e4ed758",
   "metadata": {},
   "source": [
    "### https://leetcode.com/problems/network-delay-time/"
   ]
  },
  {
   "cell_type": "code",
   "execution_count": null,
   "id": "7438eb8d",
   "metadata": {},
   "outputs": [],
   "source": [
    "class Solution:\n",
    "    def networkDelayTime(self, times: List[List[int]], n: int, k: int) -> int:\n",
    "        edges = collections.defaultdict(list)\n",
    "        for u,v,w in times:\n",
    "            edges[u].append((v,w))\n",
    "        minHeap = [(0,k)]\n",
    "        visit = set()\n",
    "        t = 0\n",
    "        while minHeap:\n",
    "            w1,n1 = heapq.heappop(minHeap)\n",
    "            if n1 not in visit:\n",
    "                visit.add(n1)\n",
    "                t = max(t,w1)\n",
    "                \n",
    "                for n2, w2 in edges[n1]:\n",
    "                    if n2 not in visit:\n",
    "                        heapq.heappush(minHeap,(w1 + w2,n2))\n",
    "        \n",
    "        return t if len(visit) == n else -1"
   ]
  },
  {
   "cell_type": "markdown",
   "id": "4a0c47bb",
   "metadata": {},
   "source": [
    "# Algorithm\n",
    "\n",
    "#### Dijkstra's Algorithm: \n",
    "We can use use Dijkstra's algorithm to solve single source shortest path problems for weighted directed graphs with non-negative weight edges. We will implement a greedy algorithm whereby we will choose from the min of the path costs to particular target vertices so that when the adjacent nodes to that particular target vertex are considered (i.e nodes where there is a directed edge incident to it from the vertex with the min path cost that we have encountered from all path cost options), we can add the min path cost to the edge weight along the directed edge reaching the adjacent node to compute potentially another minimum path cost (i.e sum of edge weights along certain path) so the adjacent node. By repeating this process for each process for each node, at the end, we will end up with the min time for a signal to start from the source node and reach each of the target vertices. \n",
    "\n",
    "We will need to maintain an adjacency list and min heap so that whenever we remove the top element from the min heap, we can consider the node and use it as a 1-based index into the adjacency list (there will be an offset of 1 since the adjacency list is 0-indexed), and retrieve its adjacent nodes (the nodes to which there is a directed edge incident to originating from the node that was used as index into the adjacency list). We will also need to maintain a list of min signal times, which intuitively will retain the minimum time we have encountered for a signal to reach the destination node starting from the source node considering all of the paths we have seen thus far. At any particular moment of time, this list may not be holding onto the ultimate minimum time to reach the destination node. We can only be sure this time is the utlimate minimum at the very end (i.e. after there are no more elements left in the min heap). The idea is that our min heap will store a tuple pair where the first entry of the pair is the path cost to reach a particular node and the label of the node is the second entry. Note that we must be careful to not confuse this path cost, when deleted from the min heap, as the minimum path cost we have seen thus far for all paths from the source node to destination vertex. When we remove the top element from the min heap, we iwll consider all adjacent nodes with directed edges originating from the node we had jsut popped, so we may discover that the path the time for the signal to reach that node along a particular path (i.e the first entry of the tuple pair) plus the weight along the directed edge may not yield a new minimum path cost for the adjacent node, so we will have to update our list of min signal times and insert the adjacent node into the min heap. However, a tuple pair mau already exist in the min heap whereby the second entry is the adjacency node we have just pushed into the min heap. We have no way of finding it unless we keep removing the top element of the heap, and in the process we may remove some relevant path costs. So, we will have to leave it in there, and just be careful with our wording when describing what the top element is that is removed from the min heap. It is simply just a path cost (sum of edge weights along a particular path). This path cost may be the minimum of all paths we have seen thus far from the source vertex to the destination vertex. It may not be either. The only way we can be sure is comparing it with the list entry from the min signal cost and check if they are equal. We can use the second entry of the tuple pair as a 1-based index into this list. If they are not equal, we shouldn't do anything (just proceed to remove the next top element from the min heap if it is not empty). Otherwise, we know that the path cost we see is the minimum time to for a signal to go from the source vertex to the destination vertex along all paths we have seen thus far, so we can be greedy and interpret it as the ultimate minimum time, so all times to reach the adjacent nodes going through the currnet target vertex will factor in this 'ultimate minimum time', so if we were to find a lower minimum time for the adjacent node compared to what the min signal time list is currently storing, we can update it as the new minimum time to reach that adjacency node.\n",
    "\n",
    "#### Algorithm Explanation\n",
    "1. Heapify a list solely containing a tuple where the first entry is 0 and the second entry is the source vertex into a min heap. Declare and initialize a list at size V for the min signal time where V is the number of vertices in the graph, or V = n. Initialize each of the list entries to the max int since we have not yet found a path from the source vertex to the destination node. Lastly, create an adjacency list where each of the vertices is a 1-based index into the first dimension of the 2d matrix. The adjacency list will each of the nodes in another vertex to which there is a directed edge pointing to it from the vertex that is used as an index into the first dimension. Update the list of min signal times so that the entry corresponding to the source node is equal to 0. The source node that emits the signal will already have the signal at the very start, and there are no other vertices in the path, so the min path cost to reach the source vertex from the source vertex is 0. \n",
    "2. As long as the min heap isn't empty, remove the top element from the min heap. Compare the first entry of the tuple pair to the list entry of min signal times corresponding to the second entry of the tuple pair (which will be used as a 1-based index into this list). If they are equal, retrieve a list of adjacent nodes by indexing into the adjacency list with the current node we popped from the min heap as a 1-based index. Go through each of these adjacency nodes and add the min path cost to reach the target vertex that we had just deleted from the min heap to the weight along the directed edge incident to the particular adjacent node. If it is less than the list entry of min signal times corresponding to the adjacent node, update the list entry to reflect this new minimum path cost and then insert a new tuple pair into the min heap where the first entry is the minimum past cost we just completed for the path we had seen thus far from the source to adjacenct node and the second entry is the adjacent node itself.\n",
    "3. Once the min heap is empty, go through the list of min signal-times and check if any of the entries are still to the MAX_INT. If so, there is no path between the source vertex and that particular destination vertex, so there can't be a min time for all n nodes to receive the signal if even one of the n nodes isn't receiving the signal. So returning -1 in this case. Otherwise, return the max entry of the list since the min heap since the min times for all of the n nodes to receive the signal must be considered, so the node taking the longest time for the minimum path cost along all paths from the source vertex to that particular destination will dominate the total minimum time. \n",
    "\n",
    "\n",
    "Runtime: O(E*logV)\n",
    "\n"
   ]
  },
  {
   "cell_type": "markdown",
   "id": "8c155928",
   "metadata": {},
   "source": [
    "### https://www.youtube.com/watch?v=EaphyqKU4PQ"
   ]
  },
  {
   "cell_type": "code",
   "execution_count": null,
   "id": "546e2039",
   "metadata": {},
   "outputs": [],
   "source": []
  }
 ],
 "metadata": {
  "kernelspec": {
   "display_name": "Python 3 (ipykernel)",
   "language": "python",
   "name": "python3"
  },
  "language_info": {
   "codemirror_mode": {
    "name": "ipython",
    "version": 3
   },
   "file_extension": ".py",
   "mimetype": "text/x-python",
   "name": "python",
   "nbconvert_exporter": "python",
   "pygments_lexer": "ipython3",
   "version": "3.9.12"
  }
 },
 "nbformat": 4,
 "nbformat_minor": 5
}
