{
 "cells": [
  {
   "cell_type": "markdown",
   "id": "114b99b4",
   "metadata": {},
   "source": [
    "### https://leetcode.com/problems/cheapest-flights-within-k-stops/"
   ]
  },
  {
   "cell_type": "code",
   "execution_count": null,
   "id": "4f0f9c80",
   "metadata": {},
   "outputs": [],
   "source": [
    "class Solution:\n",
    "    def findCheapestPrice(self, n: int, flights: List[List[int]], src: int, dst: int, k: int) -> int:\n",
    "        pass"
   ]
  },
  {
   "cell_type": "markdown",
   "id": "0313b9f3",
   "metadata": {},
   "source": [
    "# Algorithm"
   ]
  },
  {
   "cell_type": "code",
   "execution_count": null,
   "id": "be189064",
   "metadata": {},
   "outputs": [],
   "source": []
  }
 ],
 "metadata": {
  "kernelspec": {
   "display_name": "Python 3 (ipykernel)",
   "language": "python",
   "name": "python3"
  },
  "language_info": {
   "codemirror_mode": {
    "name": "ipython",
    "version": 3
   },
   "file_extension": ".py",
   "mimetype": "text/x-python",
   "name": "python",
   "nbconvert_exporter": "python",
   "pygments_lexer": "ipython3",
   "version": "3.9.12"
  }
 },
 "nbformat": 4,
 "nbformat_minor": 5
}
