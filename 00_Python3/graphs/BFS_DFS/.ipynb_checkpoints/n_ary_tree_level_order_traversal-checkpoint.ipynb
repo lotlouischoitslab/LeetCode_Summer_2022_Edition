{
 "cells": [
  {
   "cell_type": "markdown",
   "id": "38ca5844",
   "metadata": {},
   "source": [
    "### https://leetcode.com/problems/n-ary-tree-level-order-traversal/"
   ]
  },
  {
   "cell_type": "code",
   "execution_count": null,
   "id": "c3f67109",
   "metadata": {},
   "outputs": [],
   "source": [
    "# Definition for a Node.\n",
    "class Node:\n",
    "    def __init__(self, val=None, children=None):\n",
    "        self.val = val\n",
    "        self.children = children\n",
    "\n",
    "\n",
    "class Solution:\n",
    "    def levelOrder(self, root: 'Node') -> List[List[int]]:\n",
    "        if root == None:\n",
    "            return []\n",
    "        \n",
    "        nodes = []\n",
    "        to_traverse = [] #queue of node pointers\n",
    "        to_traverse.append(root)\n",
    "        level = 0\n",
    "        num_nodes = 1\n",
    "        while len(to_traverse) != 0:\n",
    "            level_nodes = []\n",
    "            temp_count = num_nodes\n",
    "            num_nodes = 0\n",
    "            for i in range(temp_count):\n",
    "                traversed = to_traverse[0]\n",
    "                level_nodes.append(traversed.val)\n",
    "                to_traverse.pop(0)\n",
    "                for child in traversed.children:\n",
    "                    if child != None:\n",
    "                        to_traverse.append(child)\n",
    "                        num_nodes += 1\n",
    "                        \n",
    "            \n",
    "           \n",
    "            nodes.append(level_nodes)\n",
    "            level +=1\n",
    "            \n",
    "        return nodes"
   ]
  },
  {
   "cell_type": "markdown",
   "id": "457e4cfc",
   "metadata": {},
   "source": [
    "# Algorithm\n",
    "#### Breadth-First-Search Approach:\n",
    "#We will take advantage of the first use case for BFS, which is traversing every node in the full n-ary tree. We will need to traverse the entire tree level-by-level, which is our intuition behind implemeting BFS. We will need to fully process one level before moving onto the next level. We need to return a 2d matrix where each of its elements is a list containing the node values of a particular level. This is the return value for the level order function, so it's not an auxillary data structure and won't be considered for the memory consumption of this algorithm. Therefore, our only auxillary data structure will be a queue containing nodes from the tree. We will implement both an outer whilte loop and inner for loop where the outer loop will run for H iterations where H is the height of the full n-ary tree. During each outer loop iteration, the inner for loop will go through all of the nodes of a particular level and add it to a list of level nodes to be appended to the list of all nodes. We must keep track of the number of children we push to the queue from the previous level, so that we pop exactly this number of nodes on the next outer while loop iteration. This way, we don;t pop from the queue when it's empty. \n",
    "\n",
    "#Runtime Analysis: O(N) where N is the number of nodes in the N-ary tree since we do a full traversal of the tree\n",
    "#Space Complexity: O(N) where N is the number of nodes in the N-ary tree since the upper bound on the number of nodes in the queue should hold N."
   ]
  },
  {
   "cell_type": "code",
   "execution_count": null,
   "id": "826f677f",
   "metadata": {},
   "outputs": [],
   "source": []
  }
 ],
 "metadata": {
  "kernelspec": {
   "display_name": "Python 3 (ipykernel)",
   "language": "python",
   "name": "python3"
  },
  "language_info": {
   "codemirror_mode": {
    "name": "ipython",
    "version": 3
   },
   "file_extension": ".py",
   "mimetype": "text/x-python",
   "name": "python",
   "nbconvert_exporter": "python",
   "pygments_lexer": "ipython3",
   "version": "3.9.12"
  }
 },
 "nbformat": 4,
 "nbformat_minor": 5
}
