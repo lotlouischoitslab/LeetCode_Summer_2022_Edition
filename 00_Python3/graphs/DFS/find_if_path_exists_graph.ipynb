{
 "cells": [
  {
   "cell_type": "markdown",
   "id": "076d5555",
   "metadata": {},
   "source": [
    "## https://leetcode.com/problems/find-if-path-exists-in-graph/"
   ]
  },
  {
   "cell_type": "code",
   "execution_count": null,
   "id": "e7548e3b",
   "metadata": {},
   "outputs": [],
   "source": [
    "class Solution:\n",
    "    def validPath(self, n: int, edges: List[List[int]], source: int, destination: int) -> bool:\n",
    "        adjacency_list = [[]for i in range(n)] #declare 2d array/matrix\n",
    "        for edge in edges:\n",
    "            adjacency_list[edge[1]].append(edge[0])\n",
    "            adjacency_list[edge[0]].append(edge[1])\n",
    "          \n",
    "        to_traverse = []\n",
    "        visited = set()\n",
    "        to_traverse.append(source)\n",
    "        while (len(to_traverse) != 0):\n",
    "            traversed = to_traverse[-1]\n",
    "            if traversed == destination:\n",
    "                return True\n",
    "            \n",
    "            visited.add(traversed)\n",
    "            to_traverse.pop()\n",
    "            neighbors = adjacency_list[traversed]\n",
    "            for i in range(len(neighbors)):\n",
    "                if neighbors[i] not in visited:\n",
    "                    to_traverse.append(neighbors[i])\n",
    "       \n",
    "        return False"
   ]
  },
  {
   "cell_type": "markdown",
   "id": "961380fe",
   "metadata": {},
   "source": [
    "# Algorithm\n",
    "\n",
    "#Depth First Search Approach:\n",
    "#We will need to traverse as many nodes as possible starting from the source node until we reach the destination node. In the worst-case, we traverse every node in the graph and add them to our visited set prior to visiting our destination node and terminating the traversal. In the best-case scenario, the graph solely consists of two nodes: the source node and the destination. We're guaranteed to reach the destination node in one while loop iteration since the destination node is the sole neighbor node of the source node. Note that we don't really care which nodes we visit in our path between the source vertex and the destination vertex. We only care that a valid path inded exists between them, so the order in which we traverse the neighbor nodes doesn't mattter since our goal is to try traversing any of them that will lead us to a valid path to the destination vertex. \n",
    "\n",
    "\n",
    "#1. Create an adjacency list and initialize as a 2d matrix where the first dimension represents the vertex (0-based) and the second dimension consists of a list whose entries are the neighbor nodes of the vertex in the first dimension. Let's also create a stack of nodes that are being considered for our path and initialize it to a stack containing solely the source vertex since we know that the source vertex must be the very first vertex in our path. Lastly, let's create a visited set. We'll initialize it to empty set at the very start. \n",
    "\n",
    "#2. Next, go through each edge in the edges list and consider the pair of vertices in the edge as neighbors of one another. This means that edge[0] will be the neighbor of edge[1], so it should be appended to the neighbor listof edge[1] and vice versa. \n",
    "\n",
    "#3. As long as the stack isn't empty, store the top element of the stack and then pop from it. (Check if the vertex we popped off from the stackis the destination vertex. If so, return true). Otherwise, check if the vertex we popped off has already been visited. If so, pop off the next element from the stack and repeat the process. If not, add it the stack to our visited set. Then, retrieve its adjacent nodes from the adjacency list.\n",
    "\n",
    "#4. Traverse each of the adjacency nodes and push them to the stack, if they have not already been visited.  \n",
    "\n",
    "#Runtime Analysis: \n",
    "#O(V + E) In the worst-case, we visit every node while traversing from the source vertex to the destination value. We have to loop through each of our edges in order to add the pair of vertices comprising the edge as neighbors of one another in the adjacency list, which requires O(1) time with constant time extra work to append to the list of neighbors. E = length of edges. In total, the first for loop requires O(E) time. Then, we pop from the stack so long as it is not empty, and the stack will hold up to V entries where V is the number of vertices in the graph and is equal to n. The for loop inside the while will have a cumulative sum of at most E iterations since it will have to iterate through all of the node's neighbors for each of the vertices. \n",
    "#The edge connections inform us the number of the node's neighbors we have not already visited, which will be O(E), so this is what we'll be adding to our runtime for having to fully traverse each of the nodes: O(V). Therefore, our overall runtime for traversing all vertices and edges in the graph in the worst-case is O(V + E)\n",
    "\n",
    "#Space Complexity: We have a visited set, which will store at most V elements, so the space required for the visited set is O(V). We also require memory to store the adjacency list. For every vertex, we have a list of neighbors. We know that the cumulative number of neighbors all vertices can have is E. In other words, the sum of the lists of neighbors for all vertices will sum to E. So, the space required for the adjacency list of O(V + E). The stack of vertices we need to consider for the path will contain up to V entries, so the space requires for it is O(V). The size of the adjacency list dominates the space omplexity analysis, space complexity is O(V + E). \n"
   ]
  },
  {
   "cell_type": "code",
   "execution_count": null,
   "id": "4b57e558",
   "metadata": {},
   "outputs": [],
   "source": []
  }
 ],
 "metadata": {
  "kernelspec": {
   "display_name": "Python 3 (ipykernel)",
   "language": "python",
   "name": "python3"
  },
  "language_info": {
   "codemirror_mode": {
    "name": "ipython",
    "version": 3
   },
   "file_extension": ".py",
   "mimetype": "text/x-python",
   "name": "python",
   "nbconvert_exporter": "python",
   "pygments_lexer": "ipython3",
   "version": "3.9.12"
  }
 },
 "nbformat": 4,
 "nbformat_minor": 5
}
