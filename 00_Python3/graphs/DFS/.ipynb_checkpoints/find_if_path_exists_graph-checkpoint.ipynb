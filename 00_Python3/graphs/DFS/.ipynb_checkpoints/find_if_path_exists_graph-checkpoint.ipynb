{
 "cells": [
  {
   "cell_type": "markdown",
   "id": "070e0875",
   "metadata": {},
   "source": [
    "## https://leetcode.com/problems/find-if-path-exists-in-graph/"
   ]
  },
  {
   "cell_type": "code",
   "execution_count": null,
   "id": "e8ecd37f",
   "metadata": {},
   "outputs": [],
   "source": [
    "class Solution:\n",
    "    def validPath(self, n: int, edges: List[List[int]], source: int, destination: int) -> bool:\n",
    "        adjacency_list = [[]for i in range(n)] #declare 2d array/matrix\n",
    "        for edge in edges:\n",
    "            adjacency_list[edge[1]].append(edge[0])\n",
    "            adjacency_list[edge[0]].append(edge[1])\n",
    "          \n",
    "        to_traverse = []\n",
    "        visited = set()\n",
    "        to_traverse.append(source)\n",
    "        while (len(to_traverse) != 0):\n",
    "            traversed = to_traverse[-1]\n",
    "            if traversed == destination:\n",
    "                return True\n",
    "            \n",
    "            visited.add(traversed)\n",
    "            to_traverse.pop()\n",
    "            neighbors = adjacency_list[traversed]\n",
    "            for i in range(len(neighbors)):\n",
    "                if neighbors[i] not in visited:\n",
    "                    to_traverse.append(neighbors[i])\n",
    "       \n",
    "        return False"
   ]
  }
 ],
 "metadata": {
  "kernelspec": {
   "display_name": "Python 3 (ipykernel)",
   "language": "python",
   "name": "python3"
  },
  "language_info": {
   "codemirror_mode": {
    "name": "ipython",
    "version": 3
   },
   "file_extension": ".py",
   "mimetype": "text/x-python",
   "name": "python",
   "nbconvert_exporter": "python",
   "pygments_lexer": "ipython3",
   "version": "3.9.12"
  }
 },
 "nbformat": 4,
 "nbformat_minor": 5
}
