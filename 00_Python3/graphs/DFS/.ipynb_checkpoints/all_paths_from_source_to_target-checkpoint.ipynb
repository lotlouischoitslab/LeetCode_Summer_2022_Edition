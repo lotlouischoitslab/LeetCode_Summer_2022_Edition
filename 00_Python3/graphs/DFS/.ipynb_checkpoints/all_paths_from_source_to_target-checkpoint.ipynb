{
 "cells": [
  {
   "cell_type": "markdown",
   "id": "3d807335",
   "metadata": {},
   "source": [
    "### https://leetcode.com/problems/all-paths-from-source-to-target/"
   ]
  },
  {
   "cell_type": "code",
   "execution_count": 1,
   "id": "8a208e35",
   "metadata": {},
   "outputs": [],
   "source": [
    "class Solution:\n",
    "    def allPathsSourceTarget(self, graph):\n",
    "        all_paths = []\n",
    "        potential_paths = []\n",
    "        source_path = [0]\n",
    "        potential_paths.append(source_path)\n",
    "        while len(potential_paths) != 0:\n",
    "            path = potential_paths[-1] #top\n",
    "            potential_paths.pop(-1)\n",
    "            if path[len(path)-1] == len(graph)-1:\n",
    "                all_paths.append(path)\n",
    "            else:\n",
    "                edge_endpoints = graph[path[len(path)-1]]\n",
    "                for i in range(len(edge_endpoints)):\n",
    "                    copy = path.copy()\n",
    "                    copy.append(edge_endpoints[i])\n",
    "                    potential_paths.append(copy)\n",
    "        return all_paths"
   ]
  },
  {
   "cell_type": "markdown",
   "id": "3545e05f",
   "metadata": {},
   "source": [
    "# Algorithm\n",
    "#Depth First Search:\n",
    "#We need to traverse every path between node 0 (the source vertex) and node n - 1 (the destination vertex), so our immediate intuition for the traversal of all paths between two nodes is DFS. We need to return a 2d matrix of paths where each of the lists in the second dimension represents each path. However, since this return value is required, the 2d matrix is not an auxiliary data structure and won't be taken into consideration for space usage. Our graph is a directed acyclic graph, so we don't have to worry about any cycles, meaning that we don't need a visited set. Instead we can just look to the very last node in the path as the very last node we visited in that corresponding traversal. Technically, there shouldn't be a directed edge from the node we're currently visiting in the traversal to the previous node (since the edges aren't bi-directional). The 2d matrix graph will give us the directed edges incident from the vertex, which is an index into the first dimension of the 2d matrix. The node this directed edge will lead to won't have another directed edge incident from it to the previous node in the traversal as the graph is guaranteed to be a DAG. Also, they are no self nodes, so there no directed edges from a vertex to itself, leading to an infinite loop within the cycle and the need to add the current vertex to the visited set. The only data structure we will maintain is a stack containing potential paths that 1). may already be a valid path from node 0 (source vertex) to node n - 1 (destination vertex) in which case we append it to the result list that we need to return, 2) may be a partial valid path from node 0 to another node that is connected to node n - 1 (destination vertex), or 3) may be an invalid path altogether that we may only be able to uncover once we finish popping all paths from the stack and find no possible paths from the source to destination vertex. This last case may occur if there are at least two connected components in the graph and node 0 is in a separate component that node n - 1. \n",
    "\n",
    "#Assumption: For a fully-connected graph, there should be a path from the source vertex to the destination vertex since the graph is directed, meaning that the edges are not bi-directional and following the edge connection from one node acan only lead to another and not back, and acyclic, meaning that already visited nodes in the traversal are not re-visited. \n",
    "#Proof for if a graph is fully-connected and directed acyclic, then there exists a path from the source to destination vertex.\n",
    "\n",
    "#Algorithm Explanation:\n",
    "#1. The 2d graph matrix is already an adjacency list, so we will use this instead of declaring or initializing anything. However, we need to declare and initialize and empty 2d matrix for storing all possible paths from node 0 to n - 1 which we will return.\n",
    "\n",
    "#2. Declare a stack of a list of ints and initialize it to a list containing solely the source node (or node 0).\n",
    "\n",
    "#3. As long as the stack isn't empty, retain the top path from the stack and pop from it (since a stack maintains LIFO order, the path we pop is the path that we most recently added to it). Retrieve the list from the 2d matrix graph that corresponds to the very last node in the path, which is the very last vertex that we had visited in that corresponding traversal. If however, the very last vertex we had visited in this traversal is the destination vertex, continue on to the next iteration and repeat the process once again. This list represents all the nodes to which there is a directed edge incident to it from the vertex we use to index into it in the first dimension. Append each of these list entries to a copy of the path we had popped from the top of the stack and push it back into the stack. \n",
    "\n",
    "#Note that n = len(graph) so len(graph)-1 is the destination vertex\n",
    "\n",
    "#Runtime Analysis: We must take the following observation: if we have a graph with only nodes (node 0 and node 1 where node 0 is the source vertex and node 1 is the destination vertex), then there is only a single path that connects the source to the destination vertex. IF we add a node, then there are two paths that connect the source to destination vertex, one directed edge incident from the source vertex and directed towards the destination vertex and another path is bridged by the new node added to the graph. If we add another node to the graph, then there are four paths that connect the source to the destination vertex. Therefore, everytime we add a new node to the graph, the number of paths from the source to destination doubles starting from a single path with only two vertices in the graph. Since we only need to consider the subset of vertices that exclude the source node and destination vertex as they both are required to be part of the path  and are common to every path, the number of paths will increase exponentially for every node added by a base of 2. So, the number of paths, at maximum, from the starting node to the ending node for a graph with N nodes the summation from i = 0 to N - 2 of 2^i = 2^(N - 1) - 1 based on the geomtric series summation definition. For each path, we have some extra work for copying the path (N - 2 intermediate nodes between the sources and destination vertex that not all paths will share in common), so it takes O(N) time to build a path (after copying the path with previous vertex in the traversal, appending to the path, and pushing it to the stack). Therefore the overall runtime is O(2^V * V). This is a loose upper bound since we have overlap ongoing paths. \n",
    "\n",
    "#Space Complexity: The space complexity will be proportional to the runtime. We have 2^(N - 1) - 1 paths at max between the source and destination node in a DAG as we determined above in our runtime analysis. We will need to store up to this many paths in our stack. Also, we incur an extra O(V) space for each path since they will have to store V - 2 intermediate nodes at maximum. So, each path can contain up to V nodes including the source and destination node if the path is valid. Therefore our overall memory consumption would be space required for the stack, or O(2^V * V). \n",
    "\n",
    "#Space, Usage, Consumption, Footprint"
   ]
  },
  {
   "cell_type": "code",
   "execution_count": null,
   "id": "8564efd6",
   "metadata": {},
   "outputs": [],
   "source": []
  }
 ],
 "metadata": {
  "kernelspec": {
   "display_name": "Python 3 (ipykernel)",
   "language": "python",
   "name": "python3"
  },
  "language_info": {
   "codemirror_mode": {
    "name": "ipython",
    "version": 3
   },
   "file_extension": ".py",
   "mimetype": "text/x-python",
   "name": "python",
   "nbconvert_exporter": "python",
   "pygments_lexer": "ipython3",
   "version": "3.9.12"
  }
 },
 "nbformat": 4,
 "nbformat_minor": 5
}
