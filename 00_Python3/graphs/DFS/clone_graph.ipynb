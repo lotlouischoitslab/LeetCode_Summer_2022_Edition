{
 "cells": [
  {
   "cell_type": "markdown",
   "id": "d71f3498",
   "metadata": {},
   "source": [
    "## https://leetcode.com/problems/clone-graph/"
   ]
  },
  {
   "cell_type": "code",
   "execution_count": 2,
   "id": "ec2990c9",
   "metadata": {},
   "outputs": [],
   "source": [
    "# Definition for a Node.\n",
    "class Node:\n",
    "    def __init__(self, val = 0, neighbors = None):\n",
    "        self.val = val\n",
    "        self.neighbors = neighbors if neighbors is not None else []\n",
    "\n",
    "class Solution:\n",
    "    def cloneGraphhelper(self,node,visited):  \n",
    "        deep_copy = Node(node.val) #dictionary contains the values to be copied\n",
    "        visited[deep_copy.val] = deep_copy #dictionary stores a deep copy\n",
    "        neighbors = node.neighbors #neighbors\n",
    "        for i in range(len(neighbors)):\n",
    "            if neighbors[i].val in visited:\n",
    "                deep_copy.neighbors.append(visited[neighbors[i].val])\n",
    "            else:\n",
    "                deep_copy.neighbors.append(self.cloneGraphhelper(neighbors[i],visited))        \n",
    "         \n",
    "        return deep_copy \n",
    "         \n",
    "        \n",
    "    def cloneGraph(self, node: 'Node') -> 'Node':\n",
    "        if node is None:\n",
    "            return node\n",
    "        visited = dict() #this is a dictionary\n",
    "        return self.cloneGraphhelper(node,visited)"
   ]
  },
  {
   "cell_type": "code",
   "execution_count": null,
   "id": "97f2ca92",
   "metadata": {},
   "outputs": [],
   "source": []
  }
 ],
 "metadata": {
  "kernelspec": {
   "display_name": "Python 3 (ipykernel)",
   "language": "python",
   "name": "python3"
  },
  "language_info": {
   "codemirror_mode": {
    "name": "ipython",
    "version": 3
   },
   "file_extension": ".py",
   "mimetype": "text/x-python",
   "name": "python",
   "nbconvert_exporter": "python",
   "pygments_lexer": "ipython3",
   "version": "3.9.12"
  }
 },
 "nbformat": 4,
 "nbformat_minor": 5
}
