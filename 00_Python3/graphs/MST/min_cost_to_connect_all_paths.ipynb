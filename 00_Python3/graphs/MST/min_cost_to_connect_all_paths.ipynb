{
 "cells": [
  {
   "cell_type": "markdown",
   "id": "59aa7af7",
   "metadata": {},
   "source": [
    "#### https://leetcode.com/problems/min-cost-to-connect-all-points/"
   ]
  },
  {
   "cell_type": "code",
   "execution_count": 1,
   "id": "532ad89e",
   "metadata": {},
   "outputs": [
    {
     "ename": "NameError",
     "evalue": "name 'List' is not defined",
     "output_type": "error",
     "traceback": [
      "\u001b[1;31m---------------------------------------------------------------------------\u001b[0m",
      "\u001b[1;31mNameError\u001b[0m                                 Traceback (most recent call last)",
      "Input \u001b[1;32mIn [1]\u001b[0m, in \u001b[0;36m<cell line: 1>\u001b[1;34m()\u001b[0m\n\u001b[1;32m----> 1\u001b[0m \u001b[38;5;28;01mclass\u001b[39;00m \u001b[38;5;21;01mSolution\u001b[39;00m:\n\u001b[0;32m      2\u001b[0m     \u001b[38;5;28;01mdef\u001b[39;00m \u001b[38;5;21mminCostConnectPoints\u001b[39m(\u001b[38;5;28mself\u001b[39m, points: List[List[\u001b[38;5;28mint\u001b[39m]]) \u001b[38;5;241m-\u001b[39m\u001b[38;5;241m>\u001b[39m \u001b[38;5;28mint\u001b[39m:\n\u001b[0;32m      3\u001b[0m         N \u001b[38;5;241m=\u001b[39m \u001b[38;5;28mlen\u001b[39m(points)\n",
      "Input \u001b[1;32mIn [1]\u001b[0m, in \u001b[0;36mSolution\u001b[1;34m()\u001b[0m\n\u001b[0;32m      1\u001b[0m \u001b[38;5;28;01mclass\u001b[39;00m \u001b[38;5;21;01mSolution\u001b[39;00m:\n\u001b[1;32m----> 2\u001b[0m     \u001b[38;5;28;01mdef\u001b[39;00m \u001b[38;5;21mminCostConnectPoints\u001b[39m(\u001b[38;5;28mself\u001b[39m, points: \u001b[43mList\u001b[49m[List[\u001b[38;5;28mint\u001b[39m]]) \u001b[38;5;241m-\u001b[39m\u001b[38;5;241m>\u001b[39m \u001b[38;5;28mint\u001b[39m:\n\u001b[0;32m      3\u001b[0m         N \u001b[38;5;241m=\u001b[39m \u001b[38;5;28mlen\u001b[39m(points)\n\u001b[0;32m      4\u001b[0m         adjacent \u001b[38;5;241m=\u001b[39m {i:[] \u001b[38;5;28;01mfor\u001b[39;00m i \u001b[38;5;129;01min\u001b[39;00m \u001b[38;5;28mrange\u001b[39m(N)} \u001b[38;5;66;03m#i : list of [cost,node]\u001b[39;00m\n",
      "\u001b[1;31mNameError\u001b[0m: name 'List' is not defined"
     ]
    }
   ],
   "source": [
    "#Correct Answer\n",
    "class Solution:\n",
    "    def minCostConnectPoints(self, points: List[List[int]]) -> int:\n",
    "        N = len(points)\n",
    "        adjacent = {i:[] for i in range(N)} #i : list of [cost,node]\n",
    "        \n",
    "        for i in range(N):\n",
    "            x1,y1 = points[i]\n",
    "            for j in range(i+1,N):\n",
    "                x2,y2 = points[j]\n",
    "                dist = abs(x1-x2) + abs(y1-y2)\n",
    "                adjacent[i].append([dist,j])\n",
    "                adjacent[j].append([dist,i])\n",
    "                \n",
    "        result = 0\n",
    "        visited = set()\n",
    "        minHeap = [[0,0]] # [cost,point]\n",
    "        while len(visited) < N:\n",
    "            cost,i = heapq.heappop(minHeap)\n",
    "            if i not in visited:\n",
    "                result += cost\n",
    "                visited.add(i)\n",
    "                for cost, neighbor in adjacent[i]:\n",
    "                    if neighbor not in visited:\n",
    "                        heapq.heappush(minHeap,[cost,neighbor])\n",
    "                        \n",
    "        return result"
   ]
  },
  {
   "cell_type": "code",
   "execution_count": null,
   "id": "2d328843",
   "metadata": {},
   "outputs": [],
   "source": [
    "class Solution:\n",
    "    def calculateManhattanDistance(self,point1,point2):\n",
    "        return abs(point1[0] - point2[0]) + abs(point1[1] - point2[1])\n",
    "    \n",
    "    def compare(self,ew1,ew2):\n",
    "        return ew1.value < ew2.value\n",
    "    \n",
    "    def find(self,vertex,root):\n",
    "        if root[vertex] == vertex:\n",
    "            return vertex\n",
    "        root[vertex] = self.find(root[vertex],root)\n",
    "        return root[vertex]\n",
    "    \n",
    "    def union(self,x,y,root,rank):\n",
    "        xroot = self.find(x,root)\n",
    "        yroot = self.find(y,root)\n",
    "        if xroot == yroot:\n",
    "            return False\n",
    "        if rank[xroot] > rank[yroot]:\n",
    "            root[yroot] = xroot\n",
    "        elif rank[yroot] > rank[xroot]:\n",
    "            root[xroot] = yroot\n",
    "        else:\n",
    "            root[yroot] = xroot\n",
    "            rank[xroot] +=1 \n",
    "        \n",
    "        return True\n",
    "        \n",
    "        \n",
    "    def minCostConnectPoints(self, points: List[List[int]]) -> int:\n",
    "        edge_weights = dict()\n",
    "        for i in range(len(points)):\n",
    "            for j in range(i+1,len(points)):\n",
    "                key = (i,j)\n",
    "                out = self.calculateManhattanDistance(points[i],points[j])\n",
    "                edge_weights[key] = out \n",
    "            \n",
    "                \n",
    "        edge_weights = dict(sorted(edge_weights.items(), key=lambda item: item[1]))\n",
    "        mincost = 0\n",
    "        root = [0 for n in range(len(points))]\n",
    "        rank = [1 for n in range(len(points))]\n",
    "        \n",
    "        for i in range(len(points)):\n",
    "            rank[i] = 1\n",
    "        \n",
    "        for key in edge_weights:\n",
    "            print(key)\n",
    "            k = key[0]\n",
    "            v = key[1]\n",
    "            if self.union(k,v,root,rank):\n",
    "                mincost += 1\n",
    "                \n",
    "        return mincost"
   ]
  },
  {
   "cell_type": "markdown",
   "id": "217ae3d7",
   "metadata": {},
   "source": [
    "# Algorithm\n",
    "#Idea behind Kruskal's Algorithm: Add edges with the least weight and do not create any cycles. Among the edges that don't create a cycle, pick the edge with least weight. \n",
    "\n",
    "#Three steps:\n",
    "#1. Sort the edges in ascending order-based on their weights.\n",
    "#2. Add edges in the order enforced by step 1 to the minimum spanning tree and skip edges that produce cycles in the MST:\n",
    "#3. Repeat step 2 until the MST contains n - 1 edges. \n",
    "\n",
    "#Let's start with step 1. We want to sort the weights in such a way that we don't lose track of the edges with the corresponding weight cost. So, we will maintain a mapping from the points that comprise an edge as a key to the weight of the edge (which is the Manhattan Distance between the two points) as a value. This mapping will be done in a form of a pair of a key mapped to a value, and we can store a list of these pairs. If the key were a tuple of lists, indexing into this tuple and the lists would become pretty cumbersome, so let's instead take a tuple of ints to be the key. These ints are an index into the 2d matrix of points and the tuple should consist of unique elements meaning that we are connecting two unique points with an edge and want to store the corresponding edge weight as a value.\n",
    "\n",
    "#Sort the key value pairs by their values in ascending order using a sort dictionary function. \n",
    "\n",
    "#We will implement the union-find data structure and incorporate path compression and union by rank algorithm in order to reduce our runtime down to O(alpha(V)). In principle, we assume it's constant, but in reality, in the average case, it's constant.\n",
    "\n",
    "#Find function: We will incorporate path compression to reduce the runtime down to O(alpha(V)). With path compression, our find function will be recursive, meaning that we need both a base case and recurrence relation.\n",
    "#Base Case: If the parent node of the passed in vertex is equal to vertex itself then return vertex. By definition, the vertex is the root node. The purpose of the find function is to fing the root node of the input vertex, so we can return this vertex.\n",
    "#Recurrence Relation: We will call the find function once again on the parent of the passed-in vertex. However, once we reach the base case and start executing the recursive calls in LIFO order, notice that the parent nodes of the original input vertex also share the same root node, so we can update their root nodes to the return value of the recursive call to find. Then, we can return this updated root node. \n",
    "\n",
    "#Union function: In the union function, we will first make two calls to find the root node for each of the input vertices. These calls to the find function will also dominate the runtime for the union function. We will implement the union by rank algorithm in order to reduce the runtime down to O(alpha(V)). First, we check if the root of the first vertex is equal to the root of the second vertex. If, so we can return from the false since both of the vertices already belong to the same set. If not, we will compare their ranks. So, if the rank of the root of the first vertex is greater than the rank of the root of the second, we will update the root of the second vertex's root to be th efirst vertex's root and vice versa. However, if both ranks are equal, we will choose to update the root of the second vertex's root to be the firstt vertex's root (it doesn't really matter which we update). However, we will have to update the rank of the first vertex's root to be incremented by 1."
   ]
  },
  {
   "cell_type": "code",
   "execution_count": null,
   "id": "8be0201c",
   "metadata": {},
   "outputs": [],
   "source": []
  }
 ],
 "metadata": {
  "kernelspec": {
   "display_name": "Python 3 (ipykernel)",
   "language": "python",
   "name": "python3"
  },
  "language_info": {
   "codemirror_mode": {
    "name": "ipython",
    "version": 3
   },
   "file_extension": ".py",
   "mimetype": "text/x-python",
   "name": "python",
   "nbconvert_exporter": "python",
   "pygments_lexer": "ipython3",
   "version": "3.9.12"
  }
 },
 "nbformat": 4,
 "nbformat_minor": 5
}
