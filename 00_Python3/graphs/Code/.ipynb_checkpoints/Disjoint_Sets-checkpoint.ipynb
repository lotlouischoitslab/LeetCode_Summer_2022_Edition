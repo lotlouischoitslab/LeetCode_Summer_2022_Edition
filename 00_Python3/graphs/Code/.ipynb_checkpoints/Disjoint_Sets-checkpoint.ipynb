{
 "cells": [
  {
   "cell_type": "code",
   "execution_count": 5,
   "id": "faa4b876",
   "metadata": {},
   "outputs": [],
   "source": [
    "#Quick Find\n",
    "class UnionFind:\n",
    "    def __init__(self, size):\n",
    "        self.root = [ i for i in range(size)]\n",
    "\n",
    "    def UnionFind(self,size):\n",
    "        for i in range(size):\n",
    "            self.root[i] = i\n",
    "        \n",
    "    def find(self,x):\n",
    "        return self.root[x]\n",
    "    \n",
    "    def union(self,x,y):\n",
    "        xroot = self.find(x)\n",
    "        yroot = self.find(y)\n",
    "        if xroot == yroot:\n",
    "            return\n",
    "        for i in range(len(root)):\n",
    "            if root[i] == yroot:\n",
    "                root[i] = xroot\n",
    "    \n",
    "    def connected(self,x,y):\n",
    "        return self.find(x) == self.find(y)"
   ]
  },
  {
   "cell_type": "code",
   "execution_count": null,
   "id": "58cb3daf",
   "metadata": {},
   "outputs": [],
   "source": [
    "#Quick Find\n",
    "#Time Complexity \n",
    "#Union-Find Constructor - O(N) Populate vector with corresponding indicies\n",
    "#Find Function - O(1) time to access element of list at index passed in\n",
    "#Union Function - O(N) to traverse the arry entirety and update root verticies for all \n",
    "#the vertices of the set that will be merged into the other set\n",
    "#Connected function - O(1) for two calls to find function and equality check operation\n",
    "\n",
    "#Space Complexity\n",
    "#O(N) space for storring array of size N"
   ]
  },
  {
   "cell_type": "code",
   "execution_count": 6,
   "id": "91797875",
   "metadata": {},
   "outputs": [],
   "source": [
    "#Quick Union\n",
    "class UnionFind:\n",
    "    def __init__(self, size):\n",
    "        self.root = [ i for i in range(size)]\n",
    "\n",
    "    def UnionFind(self,size):\n",
    "        for i in range(size):\n",
    "            self.root[i] = i\n",
    "        \n",
    "    def find(self,x):\n",
    "        while x != self.root[x]:\n",
    "            x = self.root[x]\n",
    "        return x\n",
    "    \n",
    "    def union(self,x,y):\n",
    "        xroot = self.find(x)\n",
    "        yroot = self.find(y)\n",
    "        if xroot != yroot:\n",
    "            self.root[y] = xroot\n",
    "    \n",
    "    def connected(self,x,y):\n",
    "        return self.find(x) == self.find(y)"
   ]
  },
  {
   "cell_type": "code",
   "execution_count": null,
   "id": "48b21e71",
   "metadata": {},
   "outputs": [],
   "source": [
    "#Quick Union Find \n",
    "#Time Complexity:\n",
    "#UnionFind constructor: O(N) Ppulate vector with corresponding indicies as entries\n",
    "#Find Function: O(N) in the worst case we have a stick geometry so every node is lined up\n",
    "#but still share a common root node\n",
    "#We will have to continue iteration until we discover that the parent node of the \n",
    "#is the vertex itself (definition of root node)\n",
    "#union function - O(N) in the worst case. We have to make two find calls and then add\n",
    "#the corresponding entry at index y to xRoot\n",
    "#connected function - O(N) for the two find calls and then equality check \n",
    "\n",
    "#Space Complexity:\n",
    "#O(N) space for storing an array of size N"
   ]
  },
  {
   "cell_type": "code",
   "execution_count": 10,
   "id": "8e355f0b",
   "metadata": {},
   "outputs": [],
   "source": [
    "## Union by Rank\n",
    "class UnionFind:\n",
    "    def __init__(self, size):\n",
    "        self.root = [ i for i in range(size)]\n",
    "        self.rank = [i for i in range(size)]\n",
    "\n",
    "    def UnionFind(self,size):\n",
    "        for i in range(size):\n",
    "            self.root[i] = i\n",
    "            self.rank[i] = 1\n",
    "        \n",
    "    def find(self,x):\n",
    "        while self.root[x] != x:\n",
    "            x = self.root[x]\n",
    "        return x\n",
    "    \n",
    "    def union(self,x,y):\n",
    "        xroot = self.find(x)\n",
    "        yroot = self.find(y)\n",
    "        if xroot != yroot:\n",
    "            if self.rank[xroot] > self.rank[yroot]:\n",
    "                self.root[y] = xroot\n",
    "            elif self.rank[yroot] < self.rank[yroot]:\n",
    "                self.root[x] = yroot\n",
    "            else:\n",
    "                self.root[y] = xroot\n",
    "                self.rank[xroot] += 1\n",
    "    \n",
    "    def connected(self,x,y):\n",
    "        return self.find(x) == self.find(y)"
   ]
  },
  {
   "cell_type": "code",
   "execution_count": 11,
   "id": "2e3b2dae",
   "metadata": {},
   "outputs": [
    {
     "name": "stdout",
     "output_type": "stream",
     "text": [
      "True\n",
      "True\n",
      "False\n",
      "True\n"
     ]
    }
   ],
   "source": [
    "# Test Case\n",
    "uf = UnionFind(10)\n",
    "# 1-2-5-6-7 3-8-9 4\n",
    "uf.union(1, 2)\n",
    "uf.union(2, 5)\n",
    "uf.union(5, 6)\n",
    "uf.union(6, 7)\n",
    "uf.union(3, 8)\n",
    "uf.union(8, 9)\n",
    "print(uf.connected(1, 5))  # true\n",
    "print(uf.connected(5, 7))  # true\n",
    "print(uf.connected(4, 9))  # false\n",
    "# 1-2-5-6-7 3-8-9-4\n",
    "uf.union(9, 4)\n",
    "print(uf.connected(4, 9))  # true"
   ]
  },
  {
   "cell_type": "code",
   "execution_count": null,
   "id": "da652662",
   "metadata": {},
   "outputs": [],
   "source": [
    "#Union by Rank Algorithm\n",
    "#Time Complexity:\n",
    "#UnionFind constructor - same as above\n",
    "#Find function - O(logN) -> We are constantly re-balancing our tree, thereby getting \n",
    "#closer and closer to a perfect tree. The height of a perfect tree is logN\n",
    "#so performing the find operation will require us to go down one path \n",
    "#of this logN height tree (in the worst case from the root node to the leaf node)\n",
    "#Everytime we try to union two sets with representative trees of the same rank. \n",
    "#we will increase the rank of the merged set's root node by 1 until the tree height \n",
    "#reaches logN + 1. \n",
    "#Union and connection operations -> find operation runtime O(logN) since the \n",
    "#find operation dominates the runtime of both of these functions since all other\n",
    "#equality/array access operations can be done in constant time.\n",
    "\n",
    "#Space Complexity: O(2N) which is just O(N) for storing an array of size N for\n",
    "#root nodes and an array of size N for the ranks. "
   ]
  }
 ],
 "metadata": {
  "kernelspec": {
   "display_name": "Python 3 (ipykernel)",
   "language": "python",
   "name": "python3"
  },
  "language_info": {
   "codemirror_mode": {
    "name": "ipython",
    "version": 3
   },
   "file_extension": ".py",
   "mimetype": "text/x-python",
   "name": "python",
   "nbconvert_exporter": "python",
   "pygments_lexer": "ipython3",
   "version": "3.9.12"
  }
 },
 "nbformat": 4,
 "nbformat_minor": 5
}
