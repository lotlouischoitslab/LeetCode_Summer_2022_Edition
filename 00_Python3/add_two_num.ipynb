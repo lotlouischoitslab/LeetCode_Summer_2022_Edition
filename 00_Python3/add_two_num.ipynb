{
 "cells": [
  {
   "cell_type": "markdown",
   "id": "30e7d57c",
   "metadata": {},
   "source": [
    "### https://leetcode.com/problems/add-two-numbers/"
   ]
  },
  {
   "cell_type": "code",
   "execution_count": 1,
   "id": "08356bea",
   "metadata": {},
   "outputs": [],
   "source": [
    "class ListNode:\n",
    "    def __init__(self,x):\n",
    "        self.val = x\n",
    "        self.next = None"
   ]
  },
  {
   "cell_type": "code",
   "execution_count": 3,
   "id": "f19628d7",
   "metadata": {},
   "outputs": [],
   "source": [
    "def add_two_numbers(l1: ListNode, l2: ListNode):\n",
    "    head = None #head of the new linked list\n",
    "    temp = None #reference of the head which is null right now\n",
    "    carry = 0 #carry value\n",
    "    \n",
    "    while l1 is not None or l2 is not None:\n",
    "        sum_val = carry\n",
    "        \n",
    "        if l1 is not None:\n",
    "            sum_val += l1.val\n",
    "            l1 = l1.next\n",
    "            \n",
    "        if l2 is not None:\n",
    "            sum_val += l2.val\n",
    "            l2 = l2.next\n",
    "        \n",
    "        node = ListNode(sum_val % 10)\n",
    "        \n",
    "        carry = sum_val // 10\n",
    "        \n",
    "        if temp is None:\n",
    "            temp = head = None\n",
    "        else:\n",
    "            temp.next = node\n",
    "            temp = temp.next\n",
    "    \n",
    "    if carry > 0:\n",
    "        temp.next = ListNode(carry)\n",
    "    return head"
   ]
  },
  {
   "cell_type": "code",
   "execution_count": 4,
   "id": "931926e3",
   "metadata": {},
   "outputs": [
    {
     "name": "stdout",
     "output_type": "stream",
     "text": [
      "None\n"
     ]
    }
   ],
   "source": [
    "head1 = ListNode(2)\n",
    "head1.next = ListNode(4)\n",
    "head1.next.next = ListNode(3)\n",
    "\n",
    "head2 = ListNode(5)\n",
    "head2.next = ListNode(6)\n",
    "head2.next.next = ListNode(4)\n",
    "\n",
    "result = add_two_numbers(head1, head2)\n",
    "print(result)\n",
    "while result is not None:\n",
    "    print(str(result.val), end=\" \")\n",
    "    result = result.next"
   ]
  },
  {
   "cell_type": "code",
   "execution_count": null,
   "id": "59e19450",
   "metadata": {},
   "outputs": [],
   "source": []
  }
 ],
 "metadata": {
  "kernelspec": {
   "display_name": "Python 3 (ipykernel)",
   "language": "python",
   "name": "python3"
  },
  "language_info": {
   "codemirror_mode": {
    "name": "ipython",
    "version": 3
   },
   "file_extension": ".py",
   "mimetype": "text/x-python",
   "name": "python",
   "nbconvert_exporter": "python",
   "pygments_lexer": "ipython3",
   "version": "3.9.12"
  }
 },
 "nbformat": 4,
 "nbformat_minor": 5
}
